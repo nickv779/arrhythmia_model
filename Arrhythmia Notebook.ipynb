{
 "cells": [
  {
   "cell_type": "code",
   "execution_count": 1,
   "id": "8a27c5c2-e7cb-4fb9-bb8a-21f5fa7c58f3",
   "metadata": {},
   "outputs": [],
   "source": [
    "import pandas as pd\n",
    "\n",
    "dataset = pd.read_csv(\"MIT-BIH Arrhythmia Database.csv\")"
   ]
  },
  {
   "cell_type": "markdown",
   "id": "b96cc4fe-18b6-4a63-88ac-7daf5fbd4b75",
   "metadata": {},
   "source": [
    "TODO:\n",
    "- take representative sample of dataset (aim for 15,000 rows)\n",
    "- perform preprocessing"
   ]
  }
 ],
 "metadata": {
  "kernelspec": {
   "display_name": "Python 3 (ipykernel)",
   "language": "python",
   "name": "python3"
  },
  "language_info": {
   "codemirror_mode": {
    "name": "ipython",
    "version": 3
   },
   "file_extension": ".py",
   "mimetype": "text/x-python",
   "name": "python",
   "nbconvert_exporter": "python",
   "pygments_lexer": "ipython3",
   "version": "3.12.4"
  }
 },
 "nbformat": 4,
 "nbformat_minor": 5
}
