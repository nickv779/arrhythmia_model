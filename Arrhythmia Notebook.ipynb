{
 "cells": [
  {
   "cell_type": "markdown",
   "id": "12b55ee2-6831-4237-93b9-867b2264cf3b",
   "metadata": {},
   "source": [
    "<H3 align = \"left\"> Detecting Arrhythmia Variant using Electrocardiogram Data </H3>"
   ]
  },
  {
   "cell_type": "code",
   "execution_count": 60,
   "id": "8a27c5c2-e7cb-4fb9-bb8a-21f5fa7c58f3",
   "metadata": {},
   "outputs": [],
   "source": [
    "##############################################\n",
    "## Packages Needed for this Assignmnent ##\n",
    "##############################################\n",
    "\n",
    "import pandas as pd\n",
    "import numpy as np\n",
    "import matplotlib.pyplot as plt\n",
    "import seaborn as sns\n",
    "from sklearn.preprocessing import StandardScaler\n",
    "from sklearn.preprocessing import Normalizer\n",
    "from sklearn.model_selection import train_test_split\n",
    "from sklearn import metrics\n",
    "from sklearn.linear_model import Ridge\n",
    "from statistics import mean\n",
    "from sklearn.preprocessing import LabelEncoder\n",
    "from imblearn.over_sampling import SMOTE\n",
    "from sklearn.tree import DecisionTreeClassifier\n",
    "from sklearn.neighbors import KNeighborsClassifier\n",
    "from sklearn.ensemble import RandomForestClassifier\n",
    "from sklearn.metrics import confusion_matrix, accuracy_score, precision_score, recall_score, f1_score\n",
    "from sklearn.metrics import ConfusionMatrixDisplay\n",
    "from sklearn import svm\n",
    "from sklearn.linear_model import LogisticRegression\n",
    "from sklearn.ensemble import StackingClassifier\n",
    "from sklearn.ensemble import VotingClassifier, BaggingClassifier, AdaBoostClassifier\n",
    "from sklearn.svm import SVC\n",
    "from sklearn.naive_bayes import GaussianNB\n"
   ]
  },
  {
   "cell_type": "code",
   "execution_count": 3,
   "id": "4ff23896-c14e-4ef9-bb86-27b6d555fa0f",
   "metadata": {},
   "outputs": [],
   "source": [
    "# Import the dataset\n",
    "dataset = pd.read_csv(\"MIT-BIH Arrhythmia Database.csv\")"
   ]
  },
  {
   "cell_type": "markdown",
   "id": "b96cc4fe-18b6-4a63-88ac-7daf5fbd4b75",
   "metadata": {},
   "source": [
    "TODO:\n",
    "- take representative sample of dataset (aim for 15,000 rows)\n",
    "- perform preprocessing "
   ]
  },
  {
   "cell_type": "code",
   "execution_count": 4,
   "id": "58c49f57-1ecb-415c-9a3f-0257a8e2ea5d",
   "metadata": {},
   "outputs": [],
   "source": [
    "# Random_state=42 ensures that each time this code runs, we will get the same N rows in the sample \n",
    "sampleOfData = dataset.sample(n=15000, random_state=777)\n",
    "\n",
    "# To get different samples use sampleOfData = dataset.sample(n=NUMBER) \n",
    "#sampleOfData = dataset.sample(n=15000)\n"
   ]
  },
  {
   "cell_type": "markdown",
   "id": "0d435648-396c-4405-a6c2-96d4b1ddfab3",
   "metadata": {},
   "source": [
    "## Understanding the Data\n",
    "\n",
    "- \"record\" is the name of the subject/patient.\n",
    "- \"type\" is the target, which contains 5 categories of heartbeats:\n",
    "    1. N (Normal)\n",
    "    2. SVEB (Supraventricular ectopic beat)\n",
    "    3. VEB (Ventricular ectopic beat)\n",
    "    4. F (Fusion beat)\n",
    "    5. Q (Unknown beat) <-- Will be removed because not so useful to our goal"
   ]
  },
  {
   "cell_type": "markdown",
   "id": "c2c18cf7-cadd-4c47-a10b-499a30b20df7",
   "metadata": {},
   "source": [
    "## Data Visualization "
   ]
  },
  {
   "cell_type": "code",
   "execution_count": 5,
   "id": "d387204f-eba0-4ebe-a001-7d8dafeb5295",
   "metadata": {},
   "outputs": [
    {
     "data": {
      "image/png": "[encoded data removed]",
      "text/plain": [
       "<Figure size 1000x600 with 1 Axes>"
      ]
     },
     "metadata": {},
     "output_type": "display_data"
    }
   ],
   "source": [
    "# Entire dataset \n",
    "# data = dataset['type'].value_counts()\n",
    "\n",
    "# Sample dataset \n",
    "data = sampleOfData['type'].value_counts()\n",
    "\n",
    "# Create a bar plot\n",
    "plt.figure(figsize=(10,6))\n",
    "bars = data.plot(kind='bar')\n",
    "\n",
    "# Set the title and labels\n",
    "plt.title('Arrhythmia')\n",
    "plt.xlabel('Types of Heart Beats')\n",
    "plt.ylabel('Count')\n",
    "\n",
    "for container in bars.containers:\n",
    "    bars.bar_label(container)\n",
    "\n",
    "# Show the plot\n",
    "plt.show()"
   ]
  },
  {
   "cell_type": "markdown",
   "id": "6f7c95a5-f86d-47ab-adf3-e2bced489f95",
   "metadata": {},
   "source": [
    "### Don't remove the comment below until final! It will take a lot of spaces"
   ]
  },
  {
   "cell_type": "code",
   "execution_count": 5,
   "id": "b1f33037-99d0-47be-aa39-c967feb4b18e",
   "metadata": {},
   "outputs": [],
   "source": [
    "#data visualization (before data cleaning)\n",
    "# features = sampleOfData.drop('type', axis=1).columns\n",
    "# target = sampleOfData['type']\n",
    "\n",
    "# fig, axs = plt.subplots(len(features), 1, figsize=(5, 5*len(features)))\n",
    "\n",
    "# for i, feature in enumerate(features):\n",
    "#     axs[i].scatter(sampleOfData[feature], target)\n",
    "#     axs[i].set_xlabel(feature)\n",
    "#     axs[i].set_ylabel('Heartbeat')\n",
    "\n",
    "# plt.tight_layout()\n",
    "# plt.show()"
   ]
  },
  {
   "cell_type": "markdown",
   "id": "40a9ecc7-4e89-41d7-a3d2-7d95bad64fc5",
   "metadata": {},
   "source": [
    "## Data cleaning"
   ]
  },
  {
   "cell_type": "code",
   "execution_count": 6,
   "id": "8828439e-34b7-456a-a256-8350580f2fe6",
   "metadata": {},
   "outputs": [],
   "source": [
    "#we drop \"record\" column from our dataset because it is not helpful as \"record\" is the name of the subject/patient.\n",
    "sampleOfData.drop('record', axis=1, inplace=True)"
   ]
  },
  {
   "cell_type": "code",
   "execution_count": 7,
   "id": "80fd176d",
   "metadata": {},
   "outputs": [],
   "source": [
    "# Function to replace outliers with the mean of that column (NOTE: I USED SAMPLEDATA NOT DATA)\n",
    "# def replaceOutliers (sd, column):\n",
    "#     Q1 = sd[column].quantile(0.25)\n",
    "#     Q3 = sd[column].quantile(0.75)\n",
    "#     IQR = Q3 - Q1\n",
    "#     lowerBound = Q1 - 1.5 * IQR\n",
    "#     upperBound = Q3 + 1.5 * IQR\n",
    "\n",
    "#     # Calculating the mean W/O outliers \n",
    "#     temp = sd[(sd[column] >= lowerBound) & (sd[column] <= upperBound)]\n",
    "#     mean = temp[column].mean()\n",
    "    \n",
    "#     sd.loc[(sd[column] < lowerBound) | (sd[column] > upperBound), column] = mean\n",
    "#     return sd\n",
    "\n",
    "# # Columns we want to check for outliers \n",
    "# columnCheck = [\n",
    "#     '0_pre-RR', '0_post-RR', '0_pPeak', '0_tPeak',\n",
    "#     '0_rPeak', '0_sPeak', '0_qPeak', '0_qrs_interval',\n",
    "#     '0_pq_interval', '0_qt_interval', '0_st_interval', '0_qrs_morph0',\n",
    "#     '0_qrs_morph1', '0_qrs_morph2', '0_qrs_morph3', '1_pre-RR', '1_post-RR',\n",
    "#     '1_pPeak', '1_tPeak', '1_rPeak', '1_sPeak', '1_qPeak',\n",
    "#     '1_qrs_interval', '1_pq_interval', '1_qt_interval', '1_st_interval', '1_qrs_morph0', '1_qrs_morph1',\n",
    "#     '1_qrs_morph2', '1_qrs_morph2', '1_qrs_morph4'\n",
    "# ]\n",
    "\n",
    "# for col in columnCheck:\n",
    "#     sampleOfData = replaceOutliers(sampleOfData, col)\n",
    "\n",
    "\n",
    "# # Seeing if theres still same amount of rows after replacing outliers \n",
    "# print(sampleOfData.shape)\n"
   ]
  },
  {
   "cell_type": "code",
   "execution_count": 7,
   "id": "35f7a541-c9a2-4289-8b99-cd0c49f91198",
   "metadata": {},
   "outputs": [
    {
     "data": {
      "text/plain": [
       "type              0\n",
       "0_pre-RR          0\n",
       "0_post-RR         0\n",
       "0_pPeak           0\n",
       "0_tPeak           0\n",
       "0_rPeak           0\n",
       "0_sPeak           0\n",
       "0_qPeak           0\n",
       "0_qrs_interval    0\n",
       "0_pq_interval     0\n",
       "0_qt_interval     0\n",
       "0_st_interval     0\n",
       "0_qrs_morph0      0\n",
       "0_qrs_morph1      0\n",
       "0_qrs_morph2      0\n",
       "0_qrs_morph3      0\n",
       "0_qrs_morph4      0\n",
       "1_pre-RR          0\n",
       "1_post-RR         0\n",
       "1_pPeak           0\n",
       "1_tPeak           0\n",
       "1_rPeak           0\n",
       "1_sPeak           0\n",
       "1_qPeak           0\n",
       "1_qrs_interval    0\n",
       "1_pq_interval     0\n",
       "1_qt_interval     0\n",
       "1_st_interval     0\n",
       "1_qrs_morph0      0\n",
       "1_qrs_morph1      0\n",
       "1_qrs_morph2      0\n",
       "1_qrs_morph3      0\n",
       "1_qrs_morph4      0\n",
       "dtype: int64"
      ]
     },
     "execution_count": 7,
     "metadata": {},
     "output_type": "execute_result"
    }
   ],
   "source": [
    "#check for the null or missing value in the dataset\n",
    "dataset.isnull().sum()\n",
    "sampleOfData.isnull().sum()"
   ]
  },
  {
   "cell_type": "code",
   "execution_count": 8,
   "id": "7e013b23-47b1-4f3a-bcb1-f580f020f299",
   "metadata": {},
   "outputs": [
    {
     "data": {
      "text/plain": [
       "0"
      ]
     },
     "execution_count": 8,
     "metadata": {},
     "output_type": "execute_result"
    }
   ],
   "source": [
    "#check for the number of duplicates in the dataset\n",
    "dataset.duplicated().sum()\n",
    "sampleOfData.duplicated().sum()\n"
   ]
  },
  {
   "cell_type": "markdown",
   "id": "340652b8-613f-4eb7-a3ae-f9f849fb0fbe",
   "metadata": {},
   "source": [
    "## Data Analysis"
   ]
  },
  {
   "cell_type": "code",
   "execution_count": 9,
   "id": "2916c6d9",
   "metadata": {},
   "outputs": [
    {
     "name": "stdout",
     "output_type": "stream",
     "text": [
      "           0_pre-RR     0_post-RR       0_pPeak       0_tPeak       0_rPeak  \\\n",
      "count  15000.000000  15000.000000  15000.000000  15000.000000  15000.000000   \n",
      "mean     278.564667    278.653733      0.052359      0.372129      1.055622   \n",
      "std       79.823633     80.418739      0.171497      0.743995      0.621826   \n",
      "min       28.000000     17.000000     -0.685050     -2.006422     -1.982220   \n",
      "25%      231.000000    231.000000     -0.054327     -0.255204      0.758040   \n",
      "50%      267.000000    266.000000      0.017293      0.238855      1.107537   \n",
      "75%      323.000000    322.000000      0.127910      0.929731      1.428403   \n",
      "max     1439.000000   2114.000000      2.180520      3.158970      3.091004   \n",
      "\n",
      "            0_sPeak       0_qPeak  0_qrs_interval  0_pq_interval  \\\n",
      "count  15000.000000  15000.000000    15000.000000   15000.000000   \n",
      "mean      -0.140082     -0.090852       28.313133      11.025400   \n",
      "std        1.031681      0.194598       14.975100       9.562352   \n",
      "min       -2.837186     -2.293879        0.000000       1.000000   \n",
      "25%       -0.787725     -0.133500       18.000000       5.000000   \n",
      "50%       -0.520795     -0.069730       27.000000       7.000000   \n",
      "75%        0.851202     -0.013176       38.000000      16.000000   \n",
      "max        3.048620      2.129282      156.000000     116.000000   \n",
      "\n",
      "       0_qt_interval  ...       1_qPeak  1_qrs_interval  1_pq_interval  \\\n",
      "count   15000.000000  ...  15000.000000    15000.000000   15000.000000   \n",
      "mean       59.927867  ...     -0.319620       11.054267      10.403333   \n",
      "std        40.623038  ...      0.440634       11.847673       8.462755   \n",
      "min         6.000000  ...     -3.307857        0.000000       1.000000   \n",
      "25%        34.000000  ...     -0.528481        3.000000       5.000000   \n",
      "50%        46.000000  ...     -0.112044        6.000000       8.000000   \n",
      "75%        75.000000  ...     -0.028473       18.000000      13.000000   \n",
      "max       309.000000  ...      2.138659      159.000000     126.000000   \n",
      "\n",
      "       1_qt_interval  1_st_interval  1_qrs_morph0  1_qrs_morph1  1_qrs_morph2  \\\n",
      "count   15000.000000   15000.000000  15000.000000  15000.000000  15000.000000   \n",
      "mean       35.854600      14.397000     -0.319620     -0.317454     -0.310141   \n",
      "std        17.184592       9.261708      0.440634      0.451190      0.513120   \n",
      "min         6.000000       1.000000     -3.307857     -3.307857     -3.286466   \n",
      "25%        25.000000      10.000000     -0.528481     -0.538861     -0.605896   \n",
      "50%        32.000000      12.000000     -0.112044     -0.116518     -0.151524   \n",
      "75%        44.000000      17.000000     -0.028473     -0.016917      0.013999   \n",
      "max       400.000000     215.000000      2.138659      2.446736      1.404256   \n",
      "\n",
      "       1_qrs_morph3  1_qrs_morph4  \n",
      "count  15000.000000  15000.000000  \n",
      "mean      -0.298186     -0.368356  \n",
      "std        0.589686      0.584091  \n",
      "min       -3.882442     -4.520327  \n",
      "25%       -0.625418     -0.676178  \n",
      "50%       -0.196448     -0.262171  \n",
      "75%        0.035457     -0.056426  \n",
      "max        1.768764      1.918604  \n",
      "\n",
      "[8 rows x 32 columns]\n"
     ]
    }
   ],
   "source": [
    "# Printing the Summary Statistics of the Sample Dataset \n",
    "print(sampleOfData.describe())"
   ]
  },
  {
   "cell_type": "code",
   "execution_count": 11,
   "id": "5d5679d8",
   "metadata": {},
   "outputs": [],
   "source": [
    "# Visualizing the data after replacing the outliers with the mean (NOTE: i want to add this to data visualization seciton but this could only work after cleaning the data)\n",
    "# for column in columnCheck:\n",
    "#     plt.figure(figsize=(5, 2))\n",
    "#     sns.boxplot(y=sampleOfData[column])\n",
    "#     plt.title(column)\n",
    "#     plt.show()"
   ]
  },
  {
   "cell_type": "code",
   "execution_count": 10,
   "id": "56f8d741",
   "metadata": {},
   "outputs": [],
   "source": [
    "# Before we encode the data, we remove the target (in type) that is Q (unknown) because it is not beneficial to include these in our dataset\n",
    "sampleOfData = sampleOfData[sampleOfData.type != \"Q\"]\n",
    "\n",
    "# With encoder, F = 0, N = 1, SVEB = 2, VEB = 3, \n",
    "le = LabelEncoder()\n",
    "sampleOfData['type'] = le.fit_transform(sampleOfData['type'])"
   ]
  },
  {
   "cell_type": "code",
   "execution_count": 11,
   "id": "edbc934e-5424-4330-bc58-02f6c9e754cf",
   "metadata": {},
   "outputs": [
    {
     "data": {
      "text/plain": [
       "<Axes: >"
      ]
     },
     "execution_count": 11,
     "metadata": {},
     "output_type": "execute_result"
    },
    {
     "data": {
      "image/png": "[encoded data removed]",
      "text/plain": [
       "<Figure size 640x480 with 2 Axes>"
      ]
     },
     "metadata": {},
     "output_type": "display_data"
    }
   ],
   "source": [
    "#check for correlations using heatmaps\n",
    "correlation = sampleOfData.corr()\n",
    "sns.heatmap(correlation)"
   ]
  },
  {
   "cell_type": "code",
   "execution_count": 12,
   "id": "3a90dd90",
   "metadata": {},
   "outputs": [
    {
     "name": "stdout",
     "output_type": "stream",
     "text": [
      "Dataset distribution before SMOTE:\n",
      "type\n",
      "1    13425\n",
      "3     1035\n",
      "2      406\n",
      "0      132\n",
      "Name: count, dtype: int64\n",
      "Dataset distribution after SMOTE:\n",
      "type\n",
      "1    13425\n",
      "3    13425\n",
      "2    13425\n",
      "0    13425\n",
      "Name: count, dtype: int64\n"
     ]
    },
    {
     "name": "stderr",
     "output_type": "stream",
     "text": [
      "/var/folders/cx/jj67ghxj5w9gsyhlcwjvf6540000gn/T/ipykernel_47528/2861652453.py:24: FutureWarning: \n",
      "\n",
      "Passing `palette` without assigning `hue` is deprecated and will be removed in v0.14.0. Assign the `x` variable to `hue` and set `legend=False` for the same effect.\n",
      "\n",
      "  sns.barplot(x=y_smote.value_counts().index, y=y_smote.value_counts().values, palette='deep')\n"
     ]
    },
    {
     "data": {
      "image/png": "[encoded data removed]",
      "text/plain": [
       "<Figure size 800x600 with 1 Axes>"
      ]
     },
     "metadata": {},
     "output_type": "display_data"
    }
   ],
   "source": [
    "SampleDataset_smote = sampleOfData.copy()\n",
    "\n",
    "#We are focusing on creating equal numbers for the type of heart beat\n",
    "X = SampleDataset_smote.drop(columns=['type'])\n",
    "y = SampleDataset_smote['type']\n",
    "\n",
    "#Here is smote \n",
    "smote = SMOTE(random_state=777) \n",
    "X_smote, y_smote = smote.fit_resample(X, y)\n",
    "\n",
    "#Combine the resampled features back into \"dataset_smote\"\n",
    "SampleDataset_smote = pd.concat([X_smote, y_smote], axis=1) \n",
    "\n",
    "#Before\n",
    "print(\"Dataset distribution before SMOTE:\")\n",
    "print(y.value_counts())\n",
    "\n",
    "#After\n",
    "print(\"Dataset distribution after SMOTE:\")\n",
    "print(y_smote.value_counts())\n",
    "\n",
    "#Visualization via bar graph\n",
    "plt.figure(figsize=(8, 6))\n",
    "sns.barplot(x=y_smote.value_counts().index, y=y_smote.value_counts().values, palette='deep')\n",
    "plt.title('Dataset Distribution After SMOTE')\n",
    "plt.xlabel('Type')\n",
    "plt.ylabel('Count')\n",
    "plt.show()\n",
    "\n",
    "#print(SampleDataset_smote.columns)"
   ]
  },
  {
   "cell_type": "markdown",
   "id": "b023b585",
   "metadata": {},
   "source": [
    "## Identify the most optimized model\n",
    "\n",
    "### TODO: Boosting and voting classifier "
   ]
  },
  {
   "cell_type": "code",
   "execution_count": 43,
   "id": "e448cd71-1d36-4d82-b523-e17886920920",
   "metadata": {},
   "outputs": [],
   "source": [
    "# Target --> identifying the type (N (Normal),  SVEB (Supraventricular ectopic beat)\n",
    "# VEB (Ventricular ectopic beat), F (Fusion beat), and Q (Unknown beat))\n",
    "\n",
    "# Features --> all other columns \n",
    "X = SampleDataset_smote.drop('type', axis=1)\n",
    "y = SampleDataset_smote['type']\n",
    "\n",
    "\n",
    "# Splitting the dataset into training and testing sets\n",
    "X_train, X_test, y_train, y_test = train_test_split(X, y, test_size=0.2, random_state=777)\n",
    "\n",
    "# Standardizing the features\n",
    "scaler = StandardScaler()\n",
    "X_trainScaled = scaler.fit_transform(X_train)\n",
    "X_testScaled = scaler.transform(X_test)"
   ]
  },
  {
   "cell_type": "markdown",
   "id": "9ac3247d-cebf-46a2-a8e0-e324bab55361",
   "metadata": {},
   "source": [
    "### Logistic Regression (without Normalization)"
   ]
  },
  {
   "cell_type": "code",
   "execution_count": 44,
   "id": "1b51b5ce-11b9-43a4-b2a9-2a886afd93a8",
   "metadata": {},
   "outputs": [],
   "source": [
    "# Logistic Regression \n",
    "logisticReg = LogisticRegression(max_iter=1000)\n",
    "logisticReg.fit(X_trainScaled, y_train) \n",
    "\n",
    "# test set\n",
    "yPredLogReg = logisticReg.predict(X_testScaled)\n",
    "\n",
    "# test set calculation\n",
    "accuracyLR = accuracy_score(y_test, yPredLogReg)\n",
    "precisionLR = precision_score(y_test, yPredLogReg, average='weighted')\n",
    "recallLR = recall_score(y_test, yPredLogReg, average='weighted')\n",
    "f1LR = f1_score(y_test, yPredLogReg, average='weighted')\n",
    "cmLR = confusion_matrix(y_test, yPredLogReg)\n"
   ]
  },
  {
   "cell_type": "markdown",
   "id": "10751e5f-0d37-4077-849e-1099de19814c",
   "metadata": {},
   "source": [
    "### Logistic Regression (with Normalization)"
   ]
  },
  {
   "cell_type": "code",
   "execution_count": 46,
   "id": "1c9e4ce3-86f4-4b39-be7e-261128dc7683",
   "metadata": {},
   "outputs": [],
   "source": [
    "normalizer = Normalizer()\n",
    "X_trainNormal = normalizer.fit_transform(X_train)\n",
    "X_testNormal = normalizer.transform(X_test)\n",
    "\n",
    "X_trainScaledNormal = scaler.fit_transform(X_trainNormal)\n",
    "X_testScaledNormal = scaler.transform(X_testNormal)\n",
    "\n",
    "# Logistic Regression with normalized and scaled data\n",
    "logisticRegNorm = LogisticRegression(max_iter=1000)\n",
    "logisticRegNorm.fit(X_trainScaledNormal, y_train)\n",
    "\n",
    "# Testing set predictions\n",
    "yPredLogRegNorm = logisticRegNorm.predict(X_testScaledNormal)\n",
    "\n",
    "# Testing set performance metrics\n",
    "accuracyLRN = accuracy_score(y_test, yPredLogRegNorm)\n",
    "precisionLRN = precision_score(y_test, yPredLogRegNorm, average='weighted')\n",
    "recallLRN = recall_score(y_test, yPredLogRegNorm, average='weighted')\n",
    "f1LRN = f1_score(y_test, yPredLogRegNorm, average='weighted')\n",
    "cmLRN = confusion_matrix(y_test, yPredLogRegNorm)\n"
   ]
  },
  {
   "cell_type": "markdown",
   "id": "5d6cd7d2-de0f-4780-992a-48d9a7098f13",
   "metadata": {},
   "source": [
    "### KNN (without Normalization)"
   ]
  },
  {
   "cell_type": "code",
   "execution_count": 48,
   "id": "f9849fb1-2223-477f-adac-0064d40317d1",
   "metadata": {},
   "outputs": [],
   "source": [
    "knn = KNeighborsClassifier()\n",
    "knn.fit(X_trainScaled, y_train)\n",
    "\n",
    "# testing set\n",
    "yPredKNN = knn.predict(X_testScaled)\n",
    "\n",
    "# testing set calculation\n",
    "accuracyKNN = accuracy_score(y_test, yPredKNN)\n",
    "precisionKNN = precision_score(y_test, yPredKNN, average='weighted')\n",
    "recallKNN = recall_score(y_test, yPredKNN, average='weighted')\n",
    "f1KNN = f1_score(y_test, yPredKNN, average='weighted')\n",
    "cmKNN = confusion_matrix(y_test, yPredKNN)\n"
   ]
  },
  {
   "cell_type": "markdown",
   "id": "a4aee47b-8a35-4712-93f0-a5de942ea5c1",
   "metadata": {},
   "source": [
    "### KNN (with Normalization)"
   ]
  },
  {
   "cell_type": "code",
   "execution_count": 49,
   "id": "162475dd",
   "metadata": {},
   "outputs": [],
   "source": [
    "normalizer = Normalizer()\n",
    "X_normal = normalizer.fit_transform(X)\n",
    "\n",
    "X_scaledNormal = scaler.fit_transform(X_normal)\n",
    "\n",
    "knnNorm = KNeighborsClassifier()\n",
    "knnNorm.fit(X_scaledNormal, y)\n",
    "\n",
    "y_pred_knn_norm = knnNorm.predict(X_scaledNormal)\n",
    "\n",
    "accuracyKNNnorm = accuracy_score(y, y_pred_knn_norm)\n",
    "precisionKNNnorm = precision_score(y, y_pred_knn_norm, average='weighted')\n",
    "recallKNNnorm = recall_score(y, y_pred_knn_norm, average='weighted')\n",
    "f1KNNnorm = f1_score(y, y_pred_knn_norm, average='weighted')\n",
    "cmKNNnorm = confusion_matrix(y, y_pred_knn_norm)\n"
   ]
  },
  {
   "cell_type": "markdown",
   "id": "6e57f686-6c62-4e5b-8226-a9d4683b531a",
   "metadata": {},
   "source": [
    "### Decision Tree (without Normalization)"
   ]
  },
  {
   "cell_type": "code",
   "execution_count": 52,
   "id": "d9e59c39-6aa6-4a84-85e9-ef184ab89a7d",
   "metadata": {},
   "outputs": [],
   "source": [
    "# Decision Tree without normalization\n",
    "decisionTree = DecisionTreeClassifier()\n",
    "decisionTree.fit(X_trainScaled, y_train)\n",
    "\n",
    "# Testing set predictions\n",
    "yPredDT = decisionTree.predict(X_testScaled)\n",
    "\n",
    "# Testing set performance metrics\n",
    "accuracyDT = accuracy_score(y_test, yPredDT)\n",
    "precisionDT = precision_score(y_test, yPredDT, average='weighted')\n",
    "recallDT = recall_score(y_test, yPredDT, average='weighted')\n",
    "f1DT = f1_score(y_test, yPredDT, average='weighted')\n",
    "cmDT = confusion_matrix(y_test, yPredDT)\n"
   ]
  },
  {
   "cell_type": "markdown",
   "id": "7f2fe93f-9ceb-432b-887a-373d93e42e07",
   "metadata": {},
   "source": [
    "### Decision Tree (with Normalization)"
   ]
  },
  {
   "cell_type": "code",
   "execution_count": 51,
   "id": "bc4c9bdf-1282-464e-8543-a2d355a5576a",
   "metadata": {},
   "outputs": [],
   "source": [
    "normalizer = Normalizer()\n",
    "X_normal = normalizer.fit_transform(X)\n",
    "\n",
    "X_scaledNormal = scaler.fit_transform(X_normal)\n",
    "\n",
    "decisionTreeNorm = DecisionTreeClassifier()\n",
    "decisionTreeNorm.fit(X_scaledNormal, y)\n",
    "\n",
    "y_pred_dt_norm = decisionTreeNorm.predict(X_scaledNormal)\n",
    "\n",
    "accuracyDTNorm = accuracy_score(y, y_pred_dt_norm)\n",
    "precisionDTNorm = precision_score(y, y_pred_dt_norm, average='weighted')\n",
    "recallDTNorm = recall_score(y, y_pred_dt_norm, average='weighted')\n",
    "f1DTNorm = f1_score(y, y_pred_dt_norm, average='weighted')\n",
    "cmDTNorm = confusion_matrix(y, y_pred_dt_norm)\n"
   ]
  },
  {
   "cell_type": "markdown",
   "id": "1a0d982b-d376-48bd-ad8a-2a2fb996aa74",
   "metadata": {},
   "source": [
    "### SVM without kernel (without Normalization)"
   ]
  },
  {
   "cell_type": "code",
   "execution_count": 35,
   "id": "829051a1",
   "metadata": {},
   "outputs": [],
   "source": [
    "linearSVM = svm.LinearSVC(C=0.1, max_iter=5000)\n",
    "linearSVM.fit(X_trainScaled, y_train)\n",
    "yPredLSVM = linearSVM.predict(X_testScaled)\n",
    "\n",
    "accuracyLSVM = accuracy_score(y_test, yPredLSVM)\n",
    "precisionLSVM = precision_score(y_test, yPredLSVM, average='weighted')\n",
    "recallLSVM = recall_score(y_test, yPredLSVM, average='weighted')\n",
    "f1LSVM = f1_score(y_test, yPredLSVM, average='weighted')\n",
    "cmLSVM = confusion_matrix(y_test, yPredLSVM)"
   ]
  },
  {
   "cell_type": "markdown",
   "id": "d1c66ffa-0a38-47c7-8063-412b3a82f732",
   "metadata": {},
   "source": [
    "### SVM without Kernel (with Normalization)"
   ]
  },
  {
   "cell_type": "code",
   "execution_count": 36,
   "id": "520b4b7b-6038-4e37-9a99-d9dace69983f",
   "metadata": {},
   "outputs": [],
   "source": [
    "linearNSVM = svm.LinearSVC(C=0.1, max_iter=5000)\n",
    "linearNSVM.fit(X_trainNormal, y_train)\n",
    "yPredNLSVM = linearNSVM.predict(X_testNormal)\n",
    "\n",
    "accuracyNLSVM = accuracy_score(y_test, yPredNLSVM)\n",
    "precisionNLSVM = precision_score(y_test, yPredNLSVM, average='weighted')\n",
    "recallNLSVM = recall_score(y_test, yPredNLSVM, average='weighted')\n",
    "f1NLSVM = f1_score(y_test, yPredNLSVM, average='weighted')\n",
    "cmNLSVM = confusion_matrix(y_test, yPredNLSVM)"
   ]
  },
  {
   "cell_type": "markdown",
   "id": "3673dda7-3234-4c56-9640-8c33e15c5b90",
   "metadata": {},
   "source": [
    "### Random Forest Classifier (without Normalization)"
   ]
  },
  {
   "cell_type": "code",
   "execution_count": 37,
   "id": "3feffcb2-fde3-4794-8e6d-ed210f40aee8",
   "metadata": {},
   "outputs": [],
   "source": [
    "RFC = RandomForestClassifier()\n",
    "RFC.fit(X_trainScaled, y_train)\n",
    "yPredRFC = RFC.predict(X_testScaled)\n",
    "\n",
    "accuracyRFC = accuracy_score(y_test, yPredRFC)\n",
    "precisionRFC = precision_score(y_test, yPredRFC, average='weighted')\n",
    "recallRFC = recall_score(y_test, yPredRFC, average='weighted')\n",
    "f1RFC = f1_score(y_test, yPredRFC, average='weighted')\n",
    "cmRFC = confusion_matrix(y_test, yPredRFC)"
   ]
  },
  {
   "cell_type": "markdown",
   "id": "17f1cab7-5a34-4a3d-b3d5-f8c9f742a2c5",
   "metadata": {},
   "source": [
    "### Bagging (with Logistic Regression)"
   ]
  },
  {
   "cell_type": "code",
   "execution_count": 38,
   "id": "62e1b4ad-fb52-42e1-8cb1-1fd93d0bf3a8",
   "metadata": {},
   "outputs": [],
   "source": [
    "bagging_clf = BaggingClassifier(estimator=logisticReg, n_estimators=10, random_state=42)\n",
    "bagging_clf.fit(X_trainScaled, y_train)\n",
    "yPredBag = bagging_clf.predict(X_testScaled)\n",
    "\n",
    "accuracyBag = accuracy_score(y_test, yPredBag)\n",
    "precisionBag = precision_score(y_test, yPredBag, average='weighted')\n",
    "recallBag = recall_score(y_test, yPredBag, average='weighted')\n",
    "f1Bag = f1_score(y_test, yPredBag, average='weighted')\n",
    "cmBag = confusion_matrix(y_test, yPredBag)"
   ]
  },
  {
   "cell_type": "markdown",
   "id": "9f718db7-5da9-417c-b643-e8659b91ed8c",
   "metadata": {},
   "source": [
    "### Boosting (Adaboost)"
   ]
  },
  {
   "cell_type": "code",
   "execution_count": 39,
   "id": "1b8cb5f7-fd73-4ade-a830-eded4eae19c9",
   "metadata": {},
   "outputs": [
    {
     "name": "stderr",
     "output_type": "stream",
     "text": [
      "/opt/anaconda3/envs/env2/lib/python3.12/site-packages/sklearn/ensemble/_weight_boosting.py:527: FutureWarning: The SAMME.R algorithm (the default) is deprecated and will be removed in 1.6. Use the SAMME algorithm to circumvent this warning.\n",
      "  warnings.warn(\n"
     ]
    }
   ],
   "source": [
    "ada_clf = AdaBoostClassifier(estimator=logisticReg, n_estimators=10, random_state=42)\n",
    "ada_clf.fit(X_trainScaled, y_train)\n",
    "yPredAda = ada_clf.predict(X_testScaled)\n",
    "\n",
    "accuracyAda = accuracy_score(y_test, yPredAda)\n",
    "precisionAda = precision_score(y_test, yPredAda, average='weighted')\n",
    "recallAda = recall_score(y_test, yPredAda, average='weighted')\n",
    "f1Ada = f1_score(y_test, yPredAda, average='weighted')\n",
    "cmAda = confusion_matrix(y_test, yPredAda)"
   ]
  },
  {
   "cell_type": "markdown",
   "id": "505e6d12-9c47-4dd6-bc1e-7e01c57852cd",
   "metadata": {},
   "source": [
    "### Voting Classifier (with weighted average probabilities)"
   ]
  },
  {
   "cell_type": "code",
   "execution_count": 40,
   "id": "8be1fd3f-fb73-4e4d-aa8c-992fd7ce52fa",
   "metadata": {},
   "outputs": [],
   "source": [
    "voting_clf = VotingClassifier(\n",
    "    estimators=[('lr', logisticReg), ('dt', decisionTree), ('knn', knn), ('rfc', RFC)],\n",
    "    voting='soft' \n",
    ")\n",
    "voting_clf.fit(X_trainScaled, y_train)\n",
    "yPredVote = voting_clf.predict(X_testScaled)\n",
    "\n",
    "accuracyVote = accuracy_score(y_test, yPredVote)\n",
    "precisionVote = precision_score(y_test, yPredVote, average='weighted')\n",
    "recallVote = recall_score(y_test, yPredVote, average='weighted')\n",
    "f1Vote = f1_score(y_test, yPredVote, average='weighted')\n",
    "cmVote = confusion_matrix(y_test, yPredVote)"
   ]
  },
  {
   "cell_type": "markdown",
   "id": "c82a4be6-79b2-40dd-aa3c-9476311a977c",
   "metadata": {},
   "source": [
    "### Stacking "
   ]
  },
  {
   "cell_type": "code",
   "execution_count": 41,
   "id": "bfbaa305-963a-4e53-9c4f-2c676c57934b",
   "metadata": {},
   "outputs": [],
   "source": [
    "#base models\n",
    "estimators = [\n",
    "    ('dt', decisionTree),\n",
    "    ('knn', knn,\n",
    "    ('rfc', RFC))\n",
    "]\n",
    "\n",
    "#meta model\n",
    "meta_model = logisticReg\n",
    "\n",
    "stacking_clf = StackingClassifier(estimators=estimators, final_estimator=meta_model)\n",
    "stacking_clf.fit(X_trainScaled, y_train)\n",
    "yPredStack = stacking_clf.predict(X_testScaled)\n",
    "\n",
    "accuracyStack = accuracy_score(y_test, yPredStack)\n",
    "precisionStack = precision_score(y_test, yPredStack, average='weighted')\n",
    "recallStack = recall_score(y_test, yPredStack, average='weighted')\n",
    "f1Stack = f1_score(y_test, yPredStack, average='weighted')\n",
    "cmStack = confusion_matrix(y_test, yPredStack)"
   ]
  },
  {
   "cell_type": "markdown",
   "id": "78ac6a91",
   "metadata": {},
   "source": [
    "### SVM with Kernel (without Normalization)"
   ]
  },
  {
   "cell_type": "code",
   "execution_count": 58,
   "id": "776bb7ee",
   "metadata": {},
   "outputs": [],
   "source": [
    "svm_rbf = SVC(kernel='rbf', gamma='scale')\n",
    "svm_rbf.fit(X_trainScaled, y_train)\n",
    "\n",
    "yPredSVMRBF = svm_rbf.predict(X_testScaled)\n",
    "\n",
    "accuracySVMRBF = accuracy_score(y_test, yPredSVMRBF)\n",
    "precisionSVMRBF = precision_score(y_test, yPredSVMRBF, average='weighted')\n",
    "recallSVMRBF = recall_score(y_test, yPredSVMRBF, average='weighted')\n",
    "f1SVMRBF = f1_score(y_test, yPredSVMRBF, average='weighted')\n",
    "cmSVMRBF = confusion_matrix(y_test, yPredSVMRBF)\n"
   ]
  },
  {
   "cell_type": "markdown",
   "id": "d48f017a",
   "metadata": {},
   "source": [
    "### SVM with Kernel (with Normalization)"
   ]
  },
  {
   "cell_type": "code",
   "execution_count": 59,
   "id": "df29dd5a",
   "metadata": {},
   "outputs": [],
   "source": [
    "normalizer = Normalizer()\n",
    "X_normal = normalizer.fit_transform(X)\n",
    "X_scaledNormal = scaler.fit_transform(X_normal)\n",
    "\n",
    "svm_rbf_norm = SVC(kernel='rbf', gamma='scale')\n",
    "svm_rbf_norm.fit(X_scaledNormal, y)\n",
    "\n",
    "yPredSvmrbfNorm = svm_rbf_norm.predict(X_scaledNormal)\n",
    "\n",
    "accuracySVMRBFNorm = accuracy_score(y, yPredSvmrbfNorm)\n",
    "precisionSVMRBFNorm = precision_score(y, yPredSvmrbfNorm, average='weighted')\n",
    "recallSVMRBFNorm = recall_score(y, yPredSvmrbfNorm, average='weighted')\n",
    "f1SVMRBFNorm = f1_score(y, yPredSvmrbfNorm, average='weighted')\n",
    "cmSVMRBFNorm = confusion_matrix(y, yPredSvmrbfNorm)\n"
   ]
  },
  {
   "cell_type": "markdown",
   "id": "f9ef39db",
   "metadata": {},
   "source": [
    "### Gaussian Naive Bayes (without Normalization)"
   ]
  },
  {
   "cell_type": "code",
   "execution_count": 62,
   "id": "41aa8c27",
   "metadata": {},
   "outputs": [],
   "source": [
    "gnb = GaussianNB()\n",
    "gnb.fit(X_trainScaled, y_train)\n",
    "\n",
    "yPredGNB = gnb.predict(X_testScaled)\n",
    "\n",
    "accuracyGNB = accuracy_score(y_test, yPredGNB)\n",
    "precisionGNB = precision_score(y_test, yPredGNB, average='weighted')\n",
    "recallGNB = recall_score(y_test, yPredGNB, average='weighted')\n",
    "f1GNB = f1_score(y_test, yPredGNB, average='weighted')\n",
    "cmGNB = confusion_matrix(y_test, yPredGNB)"
   ]
  },
  {
   "cell_type": "markdown",
   "id": "dfeb8a13",
   "metadata": {},
   "source": [
    "### Gaussian Naive Bayes (with Normalization)"
   ]
  },
  {
   "cell_type": "code",
   "execution_count": 64,
   "id": "b6bb69dd",
   "metadata": {},
   "outputs": [],
   "source": [
    "normalizer = Normalizer()\n",
    "X_normal = normalizer.fit_transform(X)\n",
    "X_scaledNormal = scaler.fit_transform(X_normal)\n",
    "\n",
    "gnb_norm = GaussianNB()\n",
    "gnb_norm.fit(X_scaledNormal, y)\n",
    "\n",
    "yPredgnbNorm = gnb_norm.predict(X_scaledNormal)\n",
    "\n",
    "accuracyGNBNorm = accuracy_score(y, yPredgnbNorm)\n",
    "precisionGNBNorm = precision_score(y, yPredgnbNorm, average='weighted')\n",
    "recallGNBNorm = recall_score(y, yPredgnbNorm, average='weighted')\n",
    "f1GNBNorm = f1_score(y, yPredgnbNorm, average='weighted')\n",
    "cmGNBNorm = confusion_matrix(y, yPredgnbNorm)"
   ]
  },
  {
   "cell_type": "markdown",
   "id": "1ad899c2-e1bf-4cee-bc8d-dc6082ad1e75",
   "metadata": {},
   "source": [
    "### Data Summary"
   ]
  },
  {
   "cell_type": "code",
   "execution_count": 53,
   "id": "64f3a27b-4a31-4d29-a2b0-0eea9e07fb90",
   "metadata": {},
   "outputs": [
    {
     "name": "stdout",
     "output_type": "stream",
     "text": [
      "Logistic Regression: \n",
      "Accuracy: 0.8935754189944134\n",
      "Precision: 0.8937460030405937\n",
      "Recall: 0.8935754189944134\n",
      "F1 Score: 0.8936048687607606\n",
      "Confusion Matrix:\n",
      "[[2518  139   49   77]\n",
      " [  95 2305  154   43]\n",
      " [  43  103 2384  133]\n",
      " [ 127   39  141 2390]]\n",
      "\n",
      "Logistic Regression Normalized: \n",
      "Accuracy: 0.8869646182495344\n",
      "Precision: 0.8872730607311013\n",
      "Recall: 0.8869646182495344\n",
      "F1 Score: 0.8869026217023496\n",
      "Confusion Matrix:\n",
      "[[2505  143   55   80]\n",
      " [  79 2382   87   49]\n",
      " [  49  179 2284  151]\n",
      " [ 114   38  190 2355]]\n",
      "\n",
      "KNN: \n",
      "Accuracy: 0.9925512104283054\n",
      "Precision: 0.9926048818234645\n",
      "Recall: 0.9925512104283054\n",
      "F1 Score: 0.9925327826356876\n",
      "Confusion Matrix:\n",
      "[[2783    0    0    0]\n",
      " [  14 2536   30   17]\n",
      " [   0    1 2662    0]\n",
      " [  13    2    3 2679]]\n",
      "\n",
      "KNN Normalized: \n",
      "Accuracy: 0.9944320297951583\n",
      "Precision: 0.9944729996448984\n",
      "Recall: 0.9944320297951583\n",
      "F1 Score: 0.9944166277864751\n",
      "Confusion Matrix:\n",
      "[[13424     0     0     1]\n",
      " [   42 13149   145    89]\n",
      " [    1     1 13423     0]\n",
      " [   15     3     2 13405]]\n",
      "Decision Tree: \n",
      "Accuracy: 0.9844506517690875\n",
      "Precision: 0.9844495021088021\n",
      "Recall: 0.9844506517690875\n",
      "F1 Score: 0.9844308987439326\n",
      "Confusion Matrix:\n",
      "[[2769    8    2    4]\n",
      " [  25 2520   28   24]\n",
      " [   2   21 2622   18]\n",
      " [  14   11   10 2662]]\n",
      "\n",
      "Decision Tree Normalized: \n",
      "Accuracy: 1.0\n",
      "Precision: 1.0\n",
      "Recall: 1.0\n",
      "F1 Score: 1.0\n",
      "Confusion Matrix:\n",
      "[[13425     0     0     0]\n",
      " [    0 13425     0     0]\n",
      " [    0     0 13425     0]\n",
      " [    0     0     0 13425]]\n",
      "\n",
      "Linear SVM: \n",
      "Accuracy: 0.8772811918063315\n",
      "Precision: 0.8774274745200861\n",
      "Recall: 0.8772811918063315\n",
      "F1 Score: 0.877327191710385\n",
      "Confusion Matrix:\n",
      "[[2507  139   54   83]\n",
      " [ 102 2254  199   42]\n",
      " [  35  118 2292  218]\n",
      " [ 130   43  155 2369]]\n",
      "\n",
      "Linear SVM with Normalization: \n",
      "Accuracy: 0.7214152700186219\n",
      "Precision: 0.7240972954845403\n",
      "Recall: 0.7214152700186219\n",
      "F1 Score: 0.7165098166581472\n",
      "Confusion Matrix:\n",
      "[[2444  285   35   19]\n",
      " [ 501 1682  339   75]\n",
      " [ 166  763 1394  340]\n",
      " [ 269   51  149 2228]]\n",
      "\n",
      "Random Forest Classifier: \n",
      "Accuracy: 0.9951582867783985\n",
      "Precision: 0.9951567854941984\n",
      "Recall: 0.9951582867783985\n",
      "F1 Score: 0.9951552925367128\n",
      "Confusion Matrix:\n",
      "[[2779    4    0    0]\n",
      " [   3 2572   10   12]\n",
      " [   0    4 2659    0]\n",
      " [  10    8    1 2678]]\n",
      "\n",
      "Bagging with Logistic Regression: \n",
      "Accuracy: 0.8940409683426443\n",
      "Precision: 0.8942321279731934\n",
      "Recall: 0.8940409683426443\n",
      "F1 Score: 0.8940688170151866\n",
      "Confusion Matrix:\n",
      "[[2521  135   50   77]\n",
      " [  96 2304  154   43]\n",
      " [  45  102 2388  128]\n",
      " [ 127   40  141 2389]]\n",
      "\n",
      "Adaboost with Logistic Regression: \n",
      "Accuracy: 0.7903165735567971\n",
      "Precision: 0.7935370336554393\n",
      "Recall: 0.7903165735567971\n",
      "F1 Score: 0.7892095123082976\n",
      "Confusion Matrix:\n",
      "[[2475  179   82   47]\n",
      " [ 242 1673  540  142]\n",
      " [  99  299 2177   88]\n",
      " [ 180   85  269 2163]]\n",
      "\n",
      "Voting Classifier: \n",
      "Accuracy: 0.994413407821229\n",
      "Precision: 0.9944176092778501\n",
      "Recall: 0.994413407821229\n",
      "F1 Score: 0.9944086364209409\n",
      "Confusion Matrix:\n",
      "[[2782    1    0    0]\n",
      " [   5 2566   16   10]\n",
      " [   0    4 2656    3]\n",
      " [  10    7    4 2676]]\n",
      "\n",
      "Stacking: \n",
      "Accuracy: 0.9954376163873371\n",
      "Precision: 0.995441343185679\n",
      "Recall: 0.9954376163873371\n",
      "F1 Score: 0.9954309238688709\n",
      "Confusion Matrix:\n",
      "[[2783    0    0    0]\n",
      " [   9 2562   14   12]\n",
      " [   0    4 2659    0]\n",
      " [   4    5    1 2687]]\n"
     ]
    }
   ],
   "source": [
    "print(\"Logistic Regression: \")\n",
    "print(f\"Accuracy: {accuracyLR}\")\n",
    "print(f\"Precision: {precisionLR}\")\n",
    "print(f\"Recall: {recallLR}\")\n",
    "print(f\"F1 Score: {f1LR}\")\n",
    "print(\"Confusion Matrix:\")\n",
    "print(cmLR)\n",
    "print()\n",
    "\n",
    "print(\"Logistic Regression Normalized: \")\n",
    "print(f\"Accuracy: {accuracyLRN}\")\n",
    "print(f\"Precision: {precisionLRN}\")\n",
    "print(f\"Recall: {recallLRN}\")\n",
    "print(f\"F1 Score: {f1LRN}\")\n",
    "print(\"Confusion Matrix:\")\n",
    "print(cmLRN)\n",
    "print()\n",
    "\n",
    "print(\"KNN: \")\n",
    "print(f\"Accuracy: {accuracyKNN}\")\n",
    "print(f\"Precision: {precisionKNN}\")\n",
    "print(f\"Recall: {recallKNN}\")\n",
    "print(f\"F1 Score: {f1KNN}\")\n",
    "print(\"Confusion Matrix:\")\n",
    "print(cmKNN)\n",
    "print()\n",
    "\n",
    "print(\"KNN Normalized: \")\n",
    "print(f\"Accuracy: {accuracyKNNnorm}\")\n",
    "print(f\"Precision: {precisionKNNnorm}\")\n",
    "print(f\"Recall: {recallKNNnorm}\")\n",
    "print(f\"F1 Score: {f1KNNnorm}\")\n",
    "print(\"Confusion Matrix:\")\n",
    "print(cmKNNnorm)\n",
    "\n",
    "print(\"Decision Tree: \")\n",
    "print(f\"Accuracy: {accuracyDT}\")\n",
    "print(f\"Precision: {precisionDT}\")\n",
    "print(f\"Recall: {recallDT}\")\n",
    "print(f\"F1 Score: {f1DT}\")\n",
    "print(\"Confusion Matrix:\")\n",
    "print(cmDT)\n",
    "print()\n",
    "\n",
    "print(\"Decision Tree Normalized: \")\n",
    "print(f\"Accuracy: {accuracyDTNorm}\")\n",
    "print(f\"Precision: {precisionDTNorm}\")\n",
    "print(f\"Recall: {recallDTNorm}\")\n",
    "print(f\"F1 Score: {f1DTNorm}\")\n",
    "print(\"Confusion Matrix:\")\n",
    "print(cmDTNorm)\n",
    "print()\n",
    "\n",
    "print(f\"Linear SVM: \")\n",
    "print(f\"Accuracy: {accuracyLSVM}\")\n",
    "print(f\"Precision: {precisionLSVM}\")\n",
    "print(f\"Recall: {recallLSVM}\")\n",
    "print(f\"F1 Score: {f1LSVM}\")\n",
    "print(\"Confusion Matrix:\")\n",
    "print(cmLSVM)\n",
    "print()\n",
    "\n",
    "print(f\"Linear SVM with Normalization: \")\n",
    "print(f\"Accuracy: {accuracyNLSVM}\")\n",
    "print(f\"Precision: {precisionNLSVM}\")\n",
    "print(f\"Recall: {recallNLSVM}\")\n",
    "print(f\"F1 Score: {f1NLSVM}\")\n",
    "print(\"Confusion Matrix:\")\n",
    "print(cmNLSVM)\n",
    "print()\n",
    "\n",
    "print(f\"Random Forest Classifier: \")\n",
    "print(f\"Accuracy: {accuracyRFC}\")\n",
    "print(f\"Precision: {precisionRFC}\")\n",
    "print(f\"Recall: {recallRFC}\")\n",
    "print(f\"F1 Score: {f1RFC}\")\n",
    "print(\"Confusion Matrix:\")\n",
    "print(cmRFC)\n",
    "print()\n",
    "\n",
    "print(f\"Bagging with Logistic Regression: \")\n",
    "print(f\"Accuracy: {accuracyBag}\")\n",
    "print(f\"Precision: {precisionBag}\")\n",
    "print(f\"Recall: {recallBag}\")\n",
    "print(f\"F1 Score: {f1Bag}\")\n",
    "print(\"Confusion Matrix:\")\n",
    "print(cmBag)\n",
    "print()\n",
    "\n",
    "print(f\"Adaboost with Logistic Regression: \")\n",
    "print(f\"Accuracy: {accuracyAda}\")\n",
    "print(f\"Precision: {precisionAda}\")\n",
    "print(f\"Recall: {recallAda}\")\n",
    "print(f\"F1 Score: {f1Ada}\")\n",
    "print(\"Confusion Matrix:\")\n",
    "print(cmAda)\n",
    "print()\n",
    "\n",
    "print(f\"Voting Classifier: \")\n",
    "print(f\"Accuracy: {accuracyVote}\")\n",
    "print(f\"Precision: {precisionVote}\")\n",
    "print(f\"Recall: {recallVote}\")\n",
    "print(f\"F1 Score: {f1Vote}\")\n",
    "print(\"Confusion Matrix:\")\n",
    "print(cmVote)\n",
    "print()\n",
    "\n",
    "print(f\"Stacking: \")\n",
    "print(f\"Accuracy: {accuracyStack}\")\n",
    "print(f\"Precision: {precisionStack}\")\n",
    "print(f\"Recall: {recallStack}\")\n",
    "print(f\"F1 Score: {f1Stack}\")\n",
    "print(\"Confusion Matrix:\")\n",
    "print(cmStack)\n",
    "\n",
    "print(\"SVM with RBF Kernel: \")\n",
    "print(f\"Accuracy: {accuracySVMRBF}\")\n",
    "print(f\"Precision: {precisionSVMRBF}\")\n",
    "print(f\"Recall: {recallSVMRBF}\")\n",
    "print(f\"F1 Score: {f1SVMRBF}\")\n",
    "print(\"Confusion Matrix:\")\n",
    "print(cmSVMRBF)\n",
    "print()\n",
    "\n",
    "print(\"SVM with RBF Kernel Normalized: \")\n",
    "print(f\"Accuracy: {accuracySVMRBFNorm}\")\n",
    "print(f\"Precision: {precisionSVMRBFNorm}\")\n",
    "print(f\"Recall: {recallSVMRBFNorm}\")\n",
    "print(f\"F1 Score: {f1SVMRBFNorm}\")\n",
    "print(\"Confusion Matrix:\")\n",
    "print(cmSVMRBFNorm)\n",
    "print()\n",
    "\n",
    "print(\"Gaussian Naive Bayes: \")\n",
    "print(f\"Accuracy: {accuracyGNB}\")\n",
    "print(f\"Precision: {precisionGNB}\")\n",
    "print(f\"Recall: {recallGNB}\")\n",
    "print(f\"F1 Score: {f1GNB}\")\n",
    "print(\"Confusion Matrix:\")\n",
    "print(cmGNB)\n",
    "\n",
    "print(\"Gaussian Naive Bayes Normalized: \")\n",
    "print(f\"Accuracy: {accuracyGNBNorm}\")\n",
    "print(f\"Precision: {precisionGNBNorm}\")\n",
    "print(f\"Recall: {recallGNBNorm}\")\n",
    "print(f\"F1 Score: {f1GNBNorm}\")\n",
    "print(\"Confusion Matrix:\")\n",
    "print(cmGNBNorm)\n",
    "print()\n",
    "print()"
   ]
  },
  {
   "cell_type": "code",
   "execution_count": null,
   "id": "d4b94444-9310-4a05-81fe-ce5932a7308f",
   "metadata": {},
   "outputs": [],
   "source": []
  }
 ],
 "metadata": {
  "kernelspec": {
   "display_name": "Python 3 (ipykernel)",
   "language": "python",
   "name": "python3"
  },
  "language_info": {
   "codemirror_mode": {
    "name": "ipython",
    "version": 3
   },
   "file_extension": ".py",
   "mimetype": "text/x-python",
   "name": "python",
   "nbconvert_exporter": "python",
   "pygments_lexer": "ipython3",
   "version": "3.12.4"
  }
 },
 "nbformat": 4,
 "nbformat_minor": 5
}
