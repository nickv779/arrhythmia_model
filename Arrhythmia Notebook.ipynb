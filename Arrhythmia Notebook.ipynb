{
 "cells": [
  {
   "cell_type": "markdown",
   "id": "12b55ee2-6831-4237-93b9-867b2264cf3b",
   "metadata": {},
   "source": [
    "<H3 align = \"left\"> Detecting Arrhythmia Variant using Electrocardiogram Data </H3>"
   ]
  },
  {
   "cell_type": "code",
   "execution_count": 13,
   "id": "8a27c5c2-e7cb-4fb9-bb8a-21f5fa7c58f3",
   "metadata": {},
   "outputs": [],
   "source": [
    "##############################################\n",
    "## Packages Needed for this Assignmnent ##\n",
    "##############################################\n",
    "\n",
    "import pandas as pd\n",
    "import numpy as np\n",
    "import matplotlib.pyplot as plt\n",
    "import seaborn as sns\n",
    "from sklearn.preprocessing import StandardScaler\n",
    "from sklearn.preprocessing import Normalizer\n",
    "from sklearn.model_selection import train_test_split\n",
    "from sklearn import metrics\n",
    "from sklearn.linear_model import Ridge\n",
    "from statistics import mean\n",
    "from sklearn.preprocessing import LabelEncoder\n",
    "from imblearn.over_sampling import SMOTE\n",
    "from sklearn.tree import DecisionTreeClassifier\n",
    "from sklearn.neighbors import KNeighborsClassifier\n",
    "from sklearn.ensemble import RandomForestClassifier\n",
    "from sklearn.metrics import confusion_matrix, accuracy_score, precision_score, recall_score, f1_score\n",
    "from sklearn.metrics import ConfusionMatrixDisplay\n",
    "from sklearn.linear_model import LogisticRegression"
   ]
  },
  {
   "cell_type": "code",
   "execution_count": 14,
   "id": "4ff23896-c14e-4ef9-bb86-27b6d555fa0f",
   "metadata": {},
   "outputs": [],
   "source": [
    "# Import the dataset\n",
    "dataset = pd.read_csv(\"MIT-BIH Arrhythmia Database.csv\")"
   ]
  },
  {
   "cell_type": "markdown",
   "id": "b96cc4fe-18b6-4a63-88ac-7daf5fbd4b75",
   "metadata": {},
   "source": [
    "TODO:\n",
    "- take representative sample of dataset (aim for 15,000 rows)\n",
    "- perform preprocessing "
   ]
  },
  {
   "cell_type": "code",
   "execution_count": 15,
   "id": "58c49f57-1ecb-415c-9a3f-0257a8e2ea5d",
   "metadata": {},
   "outputs": [],
   "source": [
    "# Random_state=42 ensures that each time this code runs, we will get the same N rows in the sample \n",
    "sampleOfData = dataset.sample(n=15000, random_state=777)\n",
    "\n",
    "# To get different samples use sampleOfData = dataset.sample(n=NUMBER) \n",
    "#sampleOfData = dataset.sample(n=15000)\n"
   ]
  },
  {
   "cell_type": "markdown",
   "id": "0d435648-396c-4405-a6c2-96d4b1ddfab3",
   "metadata": {},
   "source": [
    "## Understanding the Data\n",
    "\n",
    "- \"record\" is the name of the subject/patient.\n",
    "- \"type\" is the target, which contains 5 categories of heartbeats:\n",
    "    1. N (Normal)\n",
    "    2. SVEB (Supraventricular ectopic beat)\n",
    "    3. VEB (Ventricular ectopic beat)\n",
    "    4. F (Fusion beat)\n",
    "    5. Q (Unknown beat) <-- Will be removed because not so useful to our goal"
   ]
  },
  {
   "cell_type": "markdown",
   "id": "c2c18cf7-cadd-4c47-a10b-499a30b20df7",
   "metadata": {},
   "source": [
    "## Data Visualization "
   ]
  },
  {
   "cell_type": "code",
   "execution_count": 4,
   "id": "d387204f-eba0-4ebe-a001-7d8dafeb5295",
   "metadata": {},
   "outputs": [
    {
     "data": {
      "image/png": "[encoded data removed]",
      "text/plain": [
       "<Figure size 1000x600 with 1 Axes>"
      ]
     },
     "metadata": {},
     "output_type": "display_data"
    }
   ],
   "source": [
    "# Entire dataset \n",
    "# data = dataset['type'].value_counts()\n",
    "\n",
    "# Sample dataset \n",
    "data = sampleOfData['type'].value_counts()\n",
    "\n",
    "# Create a bar plot\n",
    "plt.figure(figsize=(10,6))\n",
    "bars = data.plot(kind='bar')\n",
    "\n",
    "# Set the title and labels\n",
    "plt.title('Arrhythmia')\n",
    "plt.xlabel('Types of Heart Beats')\n",
    "plt.ylabel('Count')\n",
    "\n",
    "for container in bars.containers:\n",
    "    bars.bar_label(container)\n",
    "\n",
    "# Show the plot\n",
    "plt.show()"
   ]
  },
  {
   "cell_type": "markdown",
   "id": "6f7c95a5-f86d-47ab-adf3-e2bced489f95",
   "metadata": {},
   "source": [
    "### Don't remove the comment below until final! It will take a lot of spaces"
   ]
  },
  {
   "cell_type": "code",
   "execution_count": 5,
   "id": "b1f33037-99d0-47be-aa39-c967feb4b18e",
   "metadata": {},
   "outputs": [],
   "source": [
    "#data visualization (before data cleaning)\n",
    "# features = sampleOfData.drop('type', axis=1).columns\n",
    "# target = sampleOfData['type']\n",
    "\n",
    "# fig, axs = plt.subplots(len(features), 1, figsize=(5, 5*len(features)))\n",
    "\n",
    "# for i, feature in enumerate(features):\n",
    "#     axs[i].scatter(sampleOfData[feature], target)\n",
    "#     axs[i].set_xlabel(feature)\n",
    "#     axs[i].set_ylabel('Heartbeat')\n",
    "\n",
    "# plt.tight_layout()\n",
    "# plt.show()"
   ]
  },
  {
   "cell_type": "markdown",
   "id": "40a9ecc7-4e89-41d7-a3d2-7d95bad64fc5",
   "metadata": {},
   "source": [
    "## Data cleaning"
   ]
  },
  {
   "cell_type": "code",
   "execution_count": 16,
   "id": "8828439e-34b7-456a-a256-8350580f2fe6",
   "metadata": {},
   "outputs": [],
   "source": [
    "#we drop \"record\" column from our dataset because it is not helpful as \"record\" is the name of the subject/patient.\n",
    "sampleOfData.drop('record', axis=1, inplace=True)"
   ]
  },
  {
   "cell_type": "code",
   "execution_count": 17,
   "id": "80fd176d",
   "metadata": {},
   "outputs": [
    {
     "name": "stdout",
     "output_type": "stream",
     "text": [
      "(15000, 33)\n"
     ]
    }
   ],
   "source": [
    "# Function to replace outliers with the mean of that column (NOTE: I USED SAMPLEDATA NOT DATA)\n",
    "def replaceOutliers (sd, column):\n",
    "    Q1 = sd[column].quantile(0.25)\n",
    "    Q3 = sd[column].quantile(0.75)\n",
    "    IQR = Q3 - Q1\n",
    "    lowerBound = Q1 - 1.5 * IQR\n",
    "    upperBound = Q3 + 1.5 * IQR\n",
    "\n",
    "    # Calculating the mean W/O outliers \n",
    "    temp = sd[(sd[column] >= lowerBound) & (sd[column] <= upperBound)]\n",
    "    mean = temp[column].mean()\n",
    "    \n",
    "    sd.loc[(sd[column] < lowerBound) | (sd[column] > upperBound), column] = mean\n",
    "    return sd\n",
    "\n",
    "# Columns we want to check for outliers \n",
    "columnCheck = [\n",
    "    '0_pre-RR', '0_post-RR', '0_pPeak', '0_tPeak',\n",
    "    '0_rPeak', '0_sPeak', '0_qPeak', '0_qrs_interval',\n",
    "    '0_pq_interval', '0_qt_interval', '0_st_interval', '0_qrs_morph0',\n",
    "    '0_qrs_morph1', '0_qrs_morph2', '0_qrs_morph3', '1_pre-RR', '1_post-RR',\n",
    "    '1_pPeak', '1_tPeak', '1_rPeak', '1_sPeak', '1_qPeak',\n",
    "    '1_qrs_interval', '1_pq_interval', '1_qt_interval', '1_st_interval', '1_qrs_morph0', '1_qrs_morph1',\n",
    "    '1_qrs_morph2', '1_qrs_morph2', '1_qrs_morph4'\n",
    "]\n",
    "\n",
    "for col in columnCheck:\n",
    "    sampleOfData = replaceOutliers(sampleOfData, col)\n",
    "\n",
    "\n",
    "# Seeing if theres still same amount of rows after replacing outliers \n",
    "print(sampleOfData.shape)\n"
   ]
  },
  {
   "cell_type": "code",
   "execution_count": 18,
   "id": "35f7a541-c9a2-4289-8b99-cd0c49f91198",
   "metadata": {},
   "outputs": [
    {
     "data": {
      "text/plain": [
       "type              0\n",
       "0_pre-RR          0\n",
       "0_post-RR         0\n",
       "0_pPeak           0\n",
       "0_tPeak           0\n",
       "0_rPeak           0\n",
       "0_sPeak           0\n",
       "0_qPeak           0\n",
       "0_qrs_interval    0\n",
       "0_pq_interval     0\n",
       "0_qt_interval     0\n",
       "0_st_interval     0\n",
       "0_qrs_morph0      0\n",
       "0_qrs_morph1      0\n",
       "0_qrs_morph2      0\n",
       "0_qrs_morph3      0\n",
       "0_qrs_morph4      0\n",
       "1_pre-RR          0\n",
       "1_post-RR         0\n",
       "1_pPeak           0\n",
       "1_tPeak           0\n",
       "1_rPeak           0\n",
       "1_sPeak           0\n",
       "1_qPeak           0\n",
       "1_qrs_interval    0\n",
       "1_pq_interval     0\n",
       "1_qt_interval     0\n",
       "1_st_interval     0\n",
       "1_qrs_morph0      0\n",
       "1_qrs_morph1      0\n",
       "1_qrs_morph2      0\n",
       "1_qrs_morph3      0\n",
       "1_qrs_morph4      0\n",
       "dtype: int64"
      ]
     },
     "execution_count": 18,
     "metadata": {},
     "output_type": "execute_result"
    }
   ],
   "source": [
    "#check for the null or missing value in the dataset\n",
    "dataset.isnull().sum()\n",
    "sampleOfData.isnull().sum()"
   ]
  },
  {
   "cell_type": "code",
   "execution_count": 19,
   "id": "7e013b23-47b1-4f3a-bcb1-f580f020f299",
   "metadata": {},
   "outputs": [
    {
     "data": {
      "text/plain": [
       "0"
      ]
     },
     "execution_count": 19,
     "metadata": {},
     "output_type": "execute_result"
    }
   ],
   "source": [
    "#check for the number of duplicates in the dataset\n",
    "dataset.duplicated().sum()\n",
    "sampleOfData.duplicated().sum()\n"
   ]
  },
  {
   "cell_type": "markdown",
   "id": "340652b8-613f-4eb7-a3ae-f9f849fb0fbe",
   "metadata": {},
   "source": [
    "## Data Analysis"
   ]
  },
  {
   "cell_type": "code",
   "execution_count": 20,
   "id": "2916c6d9",
   "metadata": {},
   "outputs": [
    {
     "name": "stdout",
     "output_type": "stream",
     "text": [
      "           0_pre-RR     0_post-RR       0_pPeak       0_tPeak       0_rPeak  \\\n",
      "count  15000.000000  15000.000000  15000.000000  15000.000000  15000.000000   \n",
      "mean     275.020301    275.275281      0.034390      0.363089      1.108694   \n",
      "std       68.929384     67.847951      0.120581      0.728900      0.462368   \n",
      "min       93.000000     95.000000     -0.321440     -2.006422     -0.246439   \n",
      "25%      231.000000    232.000000     -0.053551     -0.255204      0.817955   \n",
      "50%      267.000000    267.000000      0.017876      0.238855      1.108694   \n",
      "75%      318.000000    317.000000      0.110570      0.921739      1.408655   \n",
      "max      461.000000    458.000000      0.401217      2.702962      2.431187   \n",
      "\n",
      "            0_sPeak       0_qPeak  0_qrs_interval  0_pq_interval  \\\n",
      "count  15000.000000  15000.000000    15000.000000   15000.000000   \n",
      "mean      -0.140082     -0.070755       27.558305      10.119687   \n",
      "std        1.031681      0.079133       13.451599       7.626826   \n",
      "min       -2.837186     -0.313709        0.000000       1.000000   \n",
      "25%       -0.787725     -0.115312       18.000000       5.000000   \n",
      "50%       -0.520795     -0.070755       27.000000       7.000000   \n",
      "75%        0.851202     -0.020376       37.000000      15.000000   \n",
      "max        3.048620      0.166895       68.000000      32.000000   \n",
      "\n",
      "       0_qt_interval  ...       1_qPeak  1_qrs_interval  1_pq_interval  \\\n",
      "count   15000.000000  ...  15000.000000    15000.000000   15000.000000   \n",
      "mean       51.307519  ...     -0.260696        9.783243       9.191555   \n",
      "std        28.302054  ...      0.311336        9.144337       5.150165   \n",
      "min         6.000000  ...     -1.276861        0.000000       1.000000   \n",
      "25%        34.000000  ...     -0.415174        3.000000       5.000000   \n",
      "50%        46.000000  ...     -0.112385        6.000000       8.000000   \n",
      "75%        63.000000  ...     -0.028623       15.000000      12.000000   \n",
      "max       136.000000  ...      0.678155       40.000000      25.000000   \n",
      "\n",
      "       1_qt_interval  1_st_interval  1_qrs_morph0  1_qrs_morph1  1_qrs_morph2  \\\n",
      "count   15000.000000   15000.000000  15000.000000  15000.000000  15000.000000   \n",
      "mean       34.287859      12.269447     -0.260696     -0.258238     -0.242342   \n",
      "std        12.249914       5.171490      0.311336      0.326853      0.373713   \n",
      "min         6.000000       1.000000     -1.276861     -1.320821     -1.344514   \n",
      "25%        25.000000      10.000000     -0.415174     -0.440692     -0.499487   \n",
      "50%        32.000000      12.000000     -0.112385     -0.116663     -0.155312   \n",
      "75%        43.000000      15.000000     -0.028623     -0.016975      0.011955   \n",
      "max        72.000000      27.000000      0.678155      0.752910      0.825428   \n",
      "\n",
      "       1_qrs_morph3  1_qrs_morph4  \n",
      "count  15000.000000  15000.000000  \n",
      "mean      -0.298186     -0.289334  \n",
      "std        0.589686      0.418377  \n",
      "min       -3.882442     -1.605657  \n",
      "25%       -0.625418     -0.549945  \n",
      "50%       -0.196448     -0.272963  \n",
      "75%        0.035457     -0.061428  \n",
      "max        1.768764      0.872929  \n",
      "\n",
      "[8 rows x 32 columns]\n"
     ]
    }
   ],
   "source": [
    "# Printing the Summary Statistics of the Sample Dataset \n",
    "print(sampleOfData.describe())"
   ]
  },
  {
   "cell_type": "code",
   "execution_count": 11,
   "id": "5d5679d8",
   "metadata": {},
   "outputs": [],
   "source": [
    "# Visualizing the data after replacing the outliers with the mean (NOTE: i want to add this to data visualization seciton but this could only work after cleaning the data)\n",
    "# for column in columnCheck:\n",
    "#     plt.figure(figsize=(5, 2))\n",
    "#     sns.boxplot(y=sampleOfData[column])\n",
    "#     plt.title(column)\n",
    "#     plt.show()"
   ]
  },
  {
   "cell_type": "code",
   "execution_count": 21,
   "id": "56f8d741",
   "metadata": {},
   "outputs": [],
   "source": [
    "# Before we encode the data, we remove the target (in type) that is Q (unknown) because it is not beneficial to include these in our dataset\n",
    "sampleOfData = sampleOfData[sampleOfData.type != \"Q\"]\n",
    "\n",
    "# With encoder, F = 0, N = 1, SVEB = 2, VEB = 3, \n",
    "le = LabelEncoder()\n",
    "sampleOfData['type'] = le.fit_transform(sampleOfData['type'])"
   ]
  },
  {
   "cell_type": "code",
   "execution_count": 22,
   "id": "edbc934e-5424-4330-bc58-02f6c9e754cf",
   "metadata": {},
   "outputs": [
    {
     "data": {
      "text/plain": [
       "<Axes: >"
      ]
     },
     "execution_count": 22,
     "metadata": {},
     "output_type": "execute_result"
    },
    {
     "data": {
      "image/png": "[encoded data removed]",
      "text/plain": [
       "<Figure size 640x480 with 2 Axes>"
      ]
     },
     "metadata": {},
     "output_type": "display_data"
    }
   ],
   "source": [
    "#check for correlations using heatmaps\n",
    "correlation = sampleOfData.corr()\n",
    "sns.heatmap(correlation)"
   ]
  },
  {
   "cell_type": "code",
   "execution_count": 23,
   "id": "3a90dd90",
   "metadata": {},
   "outputs": [
    {
     "name": "stdout",
     "output_type": "stream",
     "text": [
      "Dataset distribution before SMOTE:\n",
      "1    13425\n",
      "3     1035\n",
      "2      406\n",
      "0      132\n",
      "Name: type, dtype: int64\n",
      "Dataset distribution after SMOTE:\n",
      "1    13425\n",
      "3    13425\n",
      "2    13425\n",
      "0    13425\n",
      "Name: type, dtype: int64\n"
     ]
    },
    {
     "name": "stderr",
     "output_type": "stream",
     "text": [
      "/var/folders/cx/jj67ghxj5w9gsyhlcwjvf6540000gn/T/ipykernel_14081/2861652453.py:24: FutureWarning: \n",
      "\n",
      "Passing `palette` without assigning `hue` is deprecated and will be removed in v0.14.0. Assign the `x` variable to `hue` and set `legend=False` for the same effect.\n",
      "\n",
      "  sns.barplot(x=y_smote.value_counts().index, y=y_smote.value_counts().values, palette='deep')\n"
     ]
    },
    {
     "data": {
      "image/png": "[encoded data removed]",
      "text/plain": [
       "<Figure size 800x600 with 1 Axes>"
      ]
     },
     "metadata": {},
     "output_type": "display_data"
    }
   ],
   "source": [
    "SampleDataset_smote = sampleOfData.copy()\n",
    "\n",
    "#We are focusing on creating equal numbers for the type of heart beat\n",
    "X = SampleDataset_smote.drop(columns=['type'])\n",
    "y = SampleDataset_smote['type']\n",
    "\n",
    "#Here is smote \n",
    "smote = SMOTE(random_state=777) \n",
    "X_smote, y_smote = smote.fit_resample(X, y)\n",
    "\n",
    "#Combine the resampled features back into \"dataset_smote\"\n",
    "SampleDataset_smote = pd.concat([X_smote, y_smote], axis=1) \n",
    "\n",
    "#Before\n",
    "print(\"Dataset distribution before SMOTE:\")\n",
    "print(y.value_counts())\n",
    "\n",
    "#After\n",
    "print(\"Dataset distribution after SMOTE:\")\n",
    "print(y_smote.value_counts())\n",
    "\n",
    "#Visualization via bar graph\n",
    "plt.figure(figsize=(8, 6))\n",
    "sns.barplot(x=y_smote.value_counts().index, y=y_smote.value_counts().values, palette='deep')\n",
    "plt.title('Dataset Distribution After SMOTE')\n",
    "plt.xlabel('Type')\n",
    "plt.ylabel('Count')\n",
    "plt.show()\n",
    "\n",
    "#print(SampleDataset_smote.columns)"
   ]
  },
  {
   "cell_type": "markdown",
   "id": "b023b585",
   "metadata": {},
   "source": [
    "## Identify the most optimized model\n",
    "\n",
    "### TODO: Decision Tree, Random Forest, and K-Nearest Neighbors\n",
    "### TODO: Display results and visualization "
   ]
  },
  {
   "cell_type": "code",
   "execution_count": 25,
   "id": "e448cd71-1d36-4d82-b523-e17886920920",
   "metadata": {},
   "outputs": [
    {
     "name": "stdout",
     "output_type": "stream",
     "text": [
      "Logicstic Regression: \n",
      "Accuracy: 0.8536312849162011\n",
      "Precision: 0.8539163284224652\n",
      "Recall: 0.8536312849162011\n",
      "F1 Score: 0.8533841855696764\n",
      "Confusion Matrix:\n",
      "[[2464  183   76   60]\n",
      " [ 161 2055  265  116]\n",
      " [  42   99 2360  162]\n",
      " [ 118  141  149 2289]]\n",
      "\n",
      "Logistic Regression Normalized\n",
      "Accuracy: 0.8439478584729981\n",
      "Precision: 0.8447905726146461\n",
      "Recall: 0.8439478584729981\n",
      "F1 Score: 0.844167156139833\n",
      "Confusion Matrix:\n",
      "[[2449  206   72   56]\n",
      " [ 146 2059  302   90]\n",
      " [  59  172 2269  163]\n",
      " [ 101  159  150 2287]]\n",
      "\n",
      "KNN: \n",
      "Accuracy: 0.991806331471136\n",
      "Precision: 0.9918864248713287\n",
      "Recall: 0.991806331471136\n",
      "F1 Score: 0.9917704621879716\n",
      "Confusion Matrix:\n",
      "[[2783    0    0    0]\n",
      " [  20 2517   37   23]\n",
      " [   1    1 2661    0]\n",
      " [   5    0    1 2691]]\n",
      "\n",
      "KNN Normalized: \n",
      "Accuracy: 0.991806331471136\n",
      "Precision: 0.9918864248713287\n",
      "Recall: 0.991806331471136\n",
      "F1 Score: 0.9917704621879716\n",
      "Confusion Matrix:\n",
      "[[2783    0    0    0]\n",
      " [  20 2517   37   23]\n",
      " [   1    1 2661    0]\n",
      " [   5    0    1 2691]]\n",
      "\n",
      "Decision Tree: \n",
      "Accuracy: 0.9757914338919925\n",
      "Precision: 0.9757560247926715\n",
      "Recall: 0.9757914338919925\n",
      "F1 Score: 0.9757501668855052\n",
      "Confusion Matrix:\n",
      "[[2766   11    1    5]\n",
      " [  25 2475   40   57]\n",
      " [   2   39 2602   20]\n",
      " [  16   33   11 2637]]\n",
      "\n",
      "Decision Tree Normalized: \n",
      "Accuracy: 0.9775605214152701\n",
      "Precision: 0.9775311553181407\n",
      "Recall: 0.9775605214152701\n",
      "F1 Score: 0.9775177977918994\n",
      "Confusion Matrix:\n",
      "[[2766    9    2    6]\n",
      " [  17 2478   45   57]\n",
      " [   0   31 2617   15]\n",
      " [  18   30   11 2638]]\n",
      "\n"
     ]
    }
   ],
   "source": [
    "# Target --> identifying the type (N (Normal),  SVEB (Supraventricular ectopic beat)\n",
    "# VEB (Ventricular ectopic beat), F (Fusion beat), and Q (Unknown beat))\n",
    "\n",
    "# Features --> all other columns \n",
    "X = SampleDataset_smote.drop('type', axis=1)\n",
    "y = SampleDataset_smote['type']\n",
    "\n",
    "\n",
    "# Splitting the dataset into training and testing sets\n",
    "X_train, X_test, y_train, y_test = train_test_split(X, y, test_size=0.2, random_state=777)\n",
    "\n",
    "# Standardizing the features\n",
    "scaler = StandardScaler()\n",
    "X_trainScaled = scaler.fit_transform(X_train)\n",
    "X_testScaled = scaler.transform(X_test)\n",
    "\n",
    "# Logistic Regression \n",
    "logisticReg = LogisticRegression(max_iter=1000)\n",
    "logisticReg.fit(X_trainScaled, y_train)\n",
    "yPredLogReg = logisticReg.predict(X_testScaled)\n",
    "\n",
    "accuracyLog = accuracy_score(y_test, yPredLogReg)\n",
    "precision = precision_score(y_test, yPredLogReg, average='weighted')\n",
    "recall = recall_score(y_test, yPredLogReg, average='weighted')\n",
    "f1 = f1_score(y_test, yPredLogReg, average='weighted')\n",
    "cm = confusion_matrix(y_test, yPredLogReg)\n",
    "\n",
    "print (f\"Logicstic Regression: \")\n",
    "print(f\"Accuracy: {accuracyLog}\")\n",
    "print(f\"Precision: {precision}\")\n",
    "print(f\"Recall: {recall}\")\n",
    "print(f\"F1 Score: {f1}\")\n",
    "print(\"Confusion Matrix:\")\n",
    "print(cm)\n",
    "print()\n",
    "\n",
    "\n",
    "# Logistic Regression --> Normalized \n",
    "normalizer = Normalizer()\n",
    "X_trainedNormal = normalizer.fit_transform(X_train)\n",
    "X_testNormal = normalizer.transform(X_test)\n",
    "\n",
    "X_trainScaled = scaler.fit_transform(X_trainedNormal)\n",
    "X_testScaled = scaler.transform(X_testNormal)\n",
    "\n",
    "logisticReg = LogisticRegression(max_iter=1000)\n",
    "logisticReg.fit(X_trainScaled, y_train)\n",
    "yPredLogReg = logisticReg.predict(X_testScaled)\n",
    "\n",
    "accuracyLog = accuracy_score(y_test, yPredLogReg)\n",
    "precision = precision_score(y_test, yPredLogReg, average='weighted')\n",
    "recall = recall_score(y_test, yPredLogReg, average='weighted')\n",
    "f1 = f1_score(y_test, yPredLogReg, average='weighted')\n",
    "cm = confusion_matrix(y_test, yPredLogReg)\n",
    "\n",
    "print(f\"Logistic Regression Normalized\")\n",
    "print(f\"Accuracy: {accuracyLog}\")\n",
    "print(f\"Precision: {precision}\")\n",
    "print(f\"Recall: {recall}\")\n",
    "print(f\"F1 Score: {f1}\")\n",
    "print(\"Confusion Matrix:\")\n",
    "print(cm)\n",
    "print()\n",
    "\n",
    "# KNN\n",
    "knn = KNeighborsClassifier()\n",
    "knn.fit(X_trainScaled, y_train)\n",
    "yPredKNN = knn.predict(X_testScaled)\n",
    "\n",
    "accuracyKNN = accuracy_score(y_test, yPredKNN)\n",
    "precisionKNN = precision_score(y_test, yPredKNN, average='weighted')\n",
    "recallKNN = recall_score(y_test, yPredKNN, average='weighted')\n",
    "f1KNN = f1_score(y_test, yPredKNN, average='weighted')\n",
    "cmKNN = confusion_matrix(y_test, yPredKNN)\n",
    "\n",
    "print(f\"KNN: \")\n",
    "print(f\"Accuracy: {accuracyKNN}\")\n",
    "print(f\"Precision: {precisionKNN}\")\n",
    "print(f\"Recall: {recallKNN}\")\n",
    "print(f\"F1 Score: {f1KNN}\")\n",
    "print(\"Confusion Matrix:\")\n",
    "print(cmKNN)\n",
    "print()\n",
    "\n",
    "# KNN --> Normalized\n",
    "normalizer = Normalizer()\n",
    "X_trainNormal = normalizer.fit_transform(X_train)\n",
    "X_testNormal = normalizer.transform(X_test)\n",
    "\n",
    "X_trainScaled = scaler.fit_transform(X_trainNormal)\n",
    "X_testScaled = scaler.transform(X_testNormal)\n",
    "\n",
    "knn = KNeighborsClassifier()\n",
    "knn.fit(X_trainScaled, y_train)\n",
    "yPredKNN = knn.predict(X_testScaled)\n",
    "\n",
    "accuracyKNN = accuracy_score(y_test, yPredKNN)\n",
    "precisionKNN = precision_score(y_test, yPredKNN, average='weighted')\n",
    "recallKNN = recall_score(y_test, yPredKNN, average='weighted')\n",
    "f1KNN = f1_score(y_test, yPredKNN, average='weighted')\n",
    "cmKNN = confusion_matrix(y_test, yPredKNN)\n",
    "\n",
    "print(f\"KNN Normalized: \")\n",
    "print(f\"Accuracy: {accuracyKNN}\")\n",
    "print(f\"Precision: {precisionKNN}\")\n",
    "print(f\"Recall: {recallKNN}\")\n",
    "print(f\"F1 Score: {f1KNN}\")\n",
    "print(\"Confusion Matrix:\")\n",
    "print(cmKNN)\n",
    "print()\n",
    "\n",
    "# Decision Tree\n",
    "decisionTree = DecisionTreeClassifier()\n",
    "decisionTree.fit(X_trainScaled, y_train)\n",
    "yPredDT = decisionTree.predict(X_testScaled)\n",
    "\n",
    "accuracyDT = accuracy_score(y_test, yPredDT)\n",
    "precisionDT = precision_score(y_test, yPredDT, average='weighted')\n",
    "recallDT = recall_score(y_test, yPredDT, average='weighted')\n",
    "f1DT = f1_score(y_test, yPredDT, average='weighted')\n",
    "cmDT = confusion_matrix(y_test, yPredDT)\n",
    "\n",
    "print(f\"Decision Tree: \")\n",
    "print(f\"Accuracy: {accuracyDT}\")\n",
    "print(f\"Precision: {precisionDT}\")\n",
    "print(f\"Recall: {recallDT}\")\n",
    "print(f\"F1 Score: {f1DT}\")\n",
    "print(\"Confusion Matrix:\")\n",
    "print(cmDT)\n",
    "print()\n",
    "\n",
    "# Decision Tree --> Normalized\n",
    "normalizer = Normalizer()\n",
    "X_trainNormal = normalizer.fit_transform(X_train)\n",
    "X_testNormal = normalizer.transform(X_test)\n",
    "\n",
    "X_trainScaled = scaler.fit_transform(X_trainNormal)\n",
    "X_testScaled = scaler.transform(X_testNormal)\n",
    "\n",
    "decisionTree = DecisionTreeClassifier()\n",
    "decisionTree.fit(X_trainScaled, y_train)\n",
    "yPredDT = decisionTree.predict(X_testScaled)\n",
    "\n",
    "accuracyDT = accuracy_score(y_test, yPredDT)\n",
    "precisionDT = precision_score(y_test, yPredDT, average='weighted')\n",
    "recallDT = recall_score(y_test, yPredDT, average='weighted')\n",
    "f1DT = f1_score(y_test, yPredDT, average='weighted')\n",
    "cmDT = confusion_matrix(y_test, yPredDT)\n",
    "\n",
    "print(f\"Decision Tree Normalized: \")\n",
    "print(f\"Accuracy: {accuracyDT}\")\n",
    "print(f\"Precision: {precisionDT}\")\n",
    "print(f\"Recall: {recallDT}\")\n",
    "print(f\"F1 Score: {f1DT}\")\n",
    "print(\"Confusion Matrix:\")\n",
    "print(cmDT)\n",
    "print()"
   ]
  },
  {
   "cell_type": "code",
   "execution_count": null,
   "id": "829051a1",
   "metadata": {},
   "outputs": [],
   "source": []
  }
 ],
 "metadata": {
  "kernelspec": {
   "display_name": "Python 3 (ipykernel)",
   "language": "python",
   "name": "python3"
  },
  "language_info": {
   "codemirror_mode": {
    "name": "ipython",
    "version": 3
   },
   "file_extension": ".py",
   "mimetype": "text/x-python",
   "name": "python",
   "nbconvert_exporter": "python",
   "pygments_lexer": "ipython3",
   "version": "3.9.0"
  }
 },
 "nbformat": 4,
 "nbformat_minor": 5
}
