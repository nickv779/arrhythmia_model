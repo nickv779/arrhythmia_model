{
 "cells": [
  {
   "cell_type": "markdown",
   "id": "12b55ee2-6831-4237-93b9-867b2264cf3b",
   "metadata": {},
   "source": [
    "<H3 align = \"left\"> Detecting Arrhythmia Variant using Electrocardiogram Data </H3>"
   ]
  },
  {
   "cell_type": "code",
   "execution_count": 9,
   "id": "8a27c5c2-e7cb-4fb9-bb8a-21f5fa7c58f3",
   "metadata": {},
   "outputs": [],
   "source": [
    "##############################################\n",
    "## Packages Needed for this Assignmnent ##\n",
    "##############################################\n",
    "\n",
    "import pandas as pd\n",
    "import numpy as np\n",
    "import matplotlib.pyplot as plt\n",
    "import seaborn as sns\n",
    "from sklearn.preprocessing import StandardScaler\n",
    "from sklearn.preprocessing import Normalizer\n",
    "from sklearn.model_selection import train_test_split\n",
    "from sklearn import metrics\n",
    "from sklearn.preprocessing import Normalizer\n",
    "from sklearn.linear_model import Ridge\n",
    "from statistics import mean\n",
    "from sklearn.preprocessing import LabelEncoder\n",
    "from imblearn.over_sampling import SMOTE\n",
    "from sklearn.tree import DecisionTreeClassifier\n",
    "from sklearn.neighbors import KNeighborsClassifier\n",
    "from sklearn.ensemble import RandomForestClassifier\n",
    "from sklearn.metrics import confusion_matrix, accuracy_score, precision_score, recall_score, f1_score\n",
    "from sklearn.metrics import ConfusionMatrixDisplay\n",
    "from sklearn.linear_model import LogisticRegression"
   ]
  },
  {
   "cell_type": "code",
   "execution_count": 32,
   "id": "4ff23896-c14e-4ef9-bb86-27b6d555fa0f",
   "metadata": {},
   "outputs": [],
   "source": [
    "# Import the dataset\n",
    "dataset = pd.read_csv(\"MIT-BIH Arrhythmia Database.csv\")"
   ]
  },
  {
   "cell_type": "markdown",
   "id": "b96cc4fe-18b6-4a63-88ac-7daf5fbd4b75",
   "metadata": {},
   "source": [
    "TODO:\n",
    "- take representative sample of dataset (aim for 15,000 rows)\n",
    "- perform preprocessing "
   ]
  },
  {
   "cell_type": "code",
   "execution_count": 33,
   "id": "58c49f57-1ecb-415c-9a3f-0257a8e2ea5d",
   "metadata": {},
   "outputs": [],
   "source": [
    "# Random_state=42 ensures that each time this code runs, we will get the same N rows in the sample \n",
    "sampleOfData = dataset.sample(n=15000, random_state=42)\n",
    "\n",
    "# To get different samples use sampleOfData = dataset.sample(n=NUMBER) \n",
    "#sampleOfData = dataset.sample(n=15000)\n"
   ]
  },
  {
   "cell_type": "markdown",
   "id": "0d435648-396c-4405-a6c2-96d4b1ddfab3",
   "metadata": {},
   "source": [
    "## Understanding the Data\n",
    "\n",
    "- \"record\" is the name of the subject/patient.\n",
    "- \"type\" is the target, which contains 5 categories of heart beats:\n",
    "    1. N (Normal)\n",
    "    2. SVEB (Supraventricular ectopic beat)\n",
    "    3. VEB (Ventricular ectopic beat)\n",
    "    4. F (Fusion beat)\n",
    "    5. Q (Unknown beat)\n"
   ]
  },
  {
   "cell_type": "markdown",
   "id": "c2c18cf7-cadd-4c47-a10b-499a30b20df7",
   "metadata": {},
   "source": [
    "## Data Visualization "
   ]
  },
  {
   "cell_type": "code",
   "execution_count": 35,
   "id": "d387204f-eba0-4ebe-a001-7d8dafeb5295",
   "metadata": {},
   "outputs": [
    {
     "data": {
      "image/png": "[encoded data removed]",
      "text/plain": [
       "<Figure size 1000x600 with 1 Axes>"
      ]
     },
     "metadata": {},
     "output_type": "display_data"
    }
   ],
   "source": [
    "# Entire dataset \n",
    "data = dataset['type'].value_counts()\n",
    "\n",
    "# Sample dataset \n",
    "#data = sampleOfData['type'].value_counts()\n",
    "\n",
    "# Create a bar plot\n",
    "plt.figure(figsize=(10,6))\n",
    "bars = data.plot(kind='bar')\n",
    "\n",
    "# Set the title and labels\n",
    "plt.title('Arrhythmia')\n",
    "plt.xlabel('Types of Heart Beats')\n",
    "plt.ylabel('Count')\n",
    "\n",
    "for container in bars.containers:\n",
    "    bars.bar_label(container)\n",
    "\n",
    "# Show the plot\n",
    "plt.show()"
   ]
  },
  {
   "cell_type": "markdown",
   "id": "6f7c95a5-f86d-47ab-adf3-e2bced489f95",
   "metadata": {},
   "source": [
    "### Don't remove the comment below until final! It will take a lot of spaces"
   ]
  },
  {
   "cell_type": "code",
   "execution_count": 4,
   "id": "b1f33037-99d0-47be-aa39-c967feb4b18e",
   "metadata": {},
   "outputs": [],
   "source": [
    "#data visualization (before data cleaning)\n",
    "# features = dataset.drop('type', axis=1).columns\n",
    "# target = dataset['type']\n",
    "\n",
    "# fig, axs = plt.subplots(len(features), 1, figsize=(5, 5*len(features)))\n",
    "\n",
    "# for i, feature in enumerate(features):\n",
    "#     axs[i].scatter(dataset[feature], target)\n",
    "#     axs[i].set_xlabel(feature)\n",
    "#     axs[i].set_ylabel('Heartbeat')\n",
    "\n",
    "# plt.tight_layout()\n",
    "# plt.show()"
   ]
  },
  {
   "cell_type": "markdown",
   "id": "40a9ecc7-4e89-41d7-a3d2-7d95bad64fc5",
   "metadata": {},
   "source": [
    "## Data cleaning"
   ]
  },
  {
   "cell_type": "code",
   "execution_count": 36,
   "id": "8828439e-34b7-456a-a256-8350580f2fe6",
   "metadata": {},
   "outputs": [],
   "source": [
    "#we drop \"record\" column from our dataset because it is not helpful as \"record\" is the name of the subject/patient.\n",
    "dataset.drop('record', axis=1, inplace=True)"
   ]
  },
  {
   "cell_type": "code",
   "execution_count": 39,
   "id": "80fd176d",
   "metadata": {},
   "outputs": [
    {
     "name": "stdout",
     "output_type": "stream",
     "text": [
      "(15000, 34)\n"
     ]
    }
   ],
   "source": [
    "# Function to replace outliers with the mean of that column (NOTE: I USED SAMPLEDATA NOT DATA)\n",
    "def replaceOutliers (sd, column):\n",
    "    Q1 = sd[column].quantile(0.25)\n",
    "    Q3 = sd[column].quantile(0.75)\n",
    "    IQR = Q3 - Q1\n",
    "    lowerBound = Q1 - 1.5 * IQR\n",
    "    upperBound = Q3 + 1.5 * IQR\n",
    "\n",
    "    # Calculating the mean W/O outliers \n",
    "    temp = sd[(sd[column] >= lowerBound) & (sd[column] <= upperBound)]\n",
    "    mean = temp[column].mean()\n",
    "    \n",
    "    sd.loc[(sd[column] < lowerBound) | (sd[column] > upperBound), column] = mean\n",
    "    return sd\n",
    "\n",
    "# Columns we want to check for outliers \n",
    "columnCheck = [\n",
    "    '0_pre-RR', '0_post-RR', '0_pPeak', '0_tPeak',\n",
    "    '0_rPeak', '0_sPeak', '0_qPeak', '0_qrs_interval',\n",
    "    '0_pq_interval', '0_qt_interval', '0_st_interval', '0_qrs_morph0',\n",
    "    '0_qrs_morph1', '0_qrs_morph2', '0_qrs_morph3', '1_pre-RR', '1_post-RR',\n",
    "    '1_pPeak', '1_tPeak', '1_rPeak', '1_sPeak', '1_qPeak',\n",
    "    '1_qrs_interval', '1_pq_interval', '1_qt_interval', '1_st_interval', '1_qrs_morph0', '1_qrs_morph1',\n",
    "    '1_qrs_morph2', '1_qrs_morph2', '1_qrs_morph4'\n",
    "]\n",
    "\n",
    "for col in columnCheck:\n",
    "    sampleOfData = replaceOutliers(sampleOfData, col)\n",
    "\n",
    "\n",
    "# Seeing if theres still same amount of rows after replacing outliers \n",
    "print(sampleOfData.shape)\n"
   ]
  },
  {
   "cell_type": "code",
   "execution_count": 6,
   "id": "35f7a541-c9a2-4289-8b99-cd0c49f91198",
   "metadata": {},
   "outputs": [
    {
     "data": {
      "text/plain": [
       "type              0\n",
       "0_pre-RR          0\n",
       "0_post-RR         0\n",
       "0_pPeak           0\n",
       "0_tPeak           0\n",
       "0_rPeak           0\n",
       "0_sPeak           0\n",
       "0_qPeak           0\n",
       "0_qrs_interval    0\n",
       "0_pq_interval     0\n",
       "0_qt_interval     0\n",
       "0_st_interval     0\n",
       "0_qrs_morph0      0\n",
       "0_qrs_morph1      0\n",
       "0_qrs_morph2      0\n",
       "0_qrs_morph3      0\n",
       "0_qrs_morph4      0\n",
       "1_pre-RR          0\n",
       "1_post-RR         0\n",
       "1_pPeak           0\n",
       "1_tPeak           0\n",
       "1_rPeak           0\n",
       "1_sPeak           0\n",
       "1_qPeak           0\n",
       "1_qrs_interval    0\n",
       "1_pq_interval     0\n",
       "1_qt_interval     0\n",
       "1_st_interval     0\n",
       "1_qrs_morph0      0\n",
       "1_qrs_morph1      0\n",
       "1_qrs_morph2      0\n",
       "1_qrs_morph3      0\n",
       "1_qrs_morph4      0\n",
       "dtype: int64"
      ]
     },
     "execution_count": 6,
     "metadata": {},
     "output_type": "execute_result"
    }
   ],
   "source": [
    "#check for the null or missing value in the dataset\n",
    "dataset.isnull().sum()"
   ]
  },
  {
   "cell_type": "code",
   "execution_count": 7,
   "id": "7e013b23-47b1-4f3a-bcb1-f580f020f299",
   "metadata": {},
   "outputs": [
    {
     "data": {
      "text/plain": [
       "0"
      ]
     },
     "execution_count": 7,
     "metadata": {},
     "output_type": "execute_result"
    }
   ],
   "source": [
    "#check for the number of duplicates in the dataset\n",
    "dataset.duplicated().sum()"
   ]
  },
  {
   "cell_type": "markdown",
   "id": "82b0db0d-a1eb-4e13-a6ca-dc1f75cab6bb",
   "metadata": {},
   "source": [
    "#### We can encode it with Normal vs Other\n",
    "#### If not, then the confusion matrix might not be good unless we do multiple comparisons like N vs VEB, N vs SVEB, VEB vs SVEB..."
   ]
  },
  {
   "cell_type": "code",
   "execution_count": 8,
   "id": "34fdf864-76d8-42a0-975e-9351be775cad",
   "metadata": {},
   "outputs": [],
   "source": [
    "#encode categorical variables using label encoder (N = 1, VEB = 4, SVEB = 3, F = 0, Q = 2)\n",
    "le = LabelEncoder()\n",
    "dataset['type'] = le.fit_transform(dataset['type'])"
   ]
  },
  {
   "cell_type": "markdown",
   "id": "9a86baa3-5579-479f-a47c-25bc84fb383d",
   "metadata": {},
   "source": [
    "### I did some testing, by removing outliers in the features (excluding \"type\"), we will be down to about 50k rows..."
   ]
  },
  {
   "cell_type": "code",
   "execution_count": null,
   "id": "2434b49c-dd32-4def-b567-8ba155dde0cd",
   "metadata": {},
   "outputs": [],
   "source": []
  },
  {
   "cell_type": "markdown",
   "id": "340652b8-613f-4eb7-a3ae-f9f849fb0fbe",
   "metadata": {},
   "source": [
    "## Data Analysis"
   ]
  },
  {
   "cell_type": "code",
   "execution_count": null,
   "id": "2916c6d9",
   "metadata": {},
   "outputs": [],
   "source": [
    "# Printing the Summary Statistics of the Sample Dataset \n",
    "print(sampleOfData.describe())"
   ]
  },
  {
   "cell_type": "code",
   "execution_count": null,
   "id": "5d5679d8",
   "metadata": {},
   "outputs": [],
   "source": [
    "# Visualizing the data after replacing the outliers with the mean (NOTE: i want to add this to data visualization seciton but this could only work after cleaning the data)\n",
    "for column in columnCheck:\n",
    "    plt.figure(figsize=(5, 2))\n",
    "    sns.boxplot(y=sampleOfData[column])\n",
    "    plt.title(column)\n",
    "    plt.show()"
   ]
  },
  {
   "cell_type": "code",
   "execution_count": null,
   "id": "9f20ecc9-ab67-497c-8762-05c82c56b6af",
   "metadata": {},
   "outputs": [],
   "source": [
    "#check for correlations using heatmaps\n",
    "correlation = dataset.corr()\n",
    "sns.heatmap(correlation)\n",
    "correlation"
   ]
  },
  {
   "cell_type": "markdown",
   "id": "b023b585",
   "metadata": {},
   "source": [
    "## Identify the most optimized model\n",
    "\n",
    "### TODO: Decision Tree, Random Forest, and K-Nearest Neighbors\n",
    "### TODO: Display results and visualization "
   ]
  },
  {
   "cell_type": "code",
   "execution_count": 46,
   "id": "e448cd71-1d36-4d82-b523-e17886920920",
   "metadata": {},
   "outputs": [],
   "source": [
    "# Target --> identifying the type (N (Normal),  SVEB (Supraventricular ectopic beat)\n",
    "# VEB (Ventricular ectopic beat), F (Fusion beat), and Q (Unknown beat))\n",
    "\n",
    "# Features --> all other columns \n",
    "X = sampleOfData.drop('type', axis=1)\n",
    "y = sampleOfData['type']\n",
    "\n",
    "# Making categorical data into a numerical format \n",
    "label_encoder = LabelEncoder()\n",
    "y = label_encoder.fit_transform(y)\n",
    "\n",
    "# Splitting the dataset into training and testing sets\n",
    "X_train, X_test, y_train, y_test = train_test_split(X, y, test_size=0.2, random_state=42)\n",
    "\n",
    "# Standardizing the features\n",
    "scaler = StandardScaler()\n",
    "X_trainScaled = scaler.fit_transform(X_train)\n",
    "X_testScaled = scaler.transform(X_test)\n",
    "\n",
    "# Logistic Regression \n",
    "logisticReg = LogisticRegression(max_iter=1000)\n",
    "logisticReg.fit(X_trainScaled, y_train)\n",
    "yPredLogReg = logisticReg.predict(X_testScaled)\n",
    "\n",
    "accuracyLog = accuracy_score(y_test, yPredLogReg)\n",
    "precision = precision_score(y_test, yPredLogReg, average='weighted')\n",
    "recall = recall_score(y_test, yPredLogReg, average='weighted')\n",
    "f1 = f1_score(y_test, yPredLogReg, average='weighted')\n",
    "cm = confusion_matrix(y_test, yPredLogReg)\n",
    "\n",
    "\n",
    "\n"
   ]
  }
 ],
 "metadata": {
  "kernelspec": {
   "display_name": "Python 3 (ipykernel)",
   "language": "python",
   "name": "python3"
  },
  "language_info": {
   "codemirror_mode": {
    "name": "ipython",
    "version": 3
   },
   "file_extension": ".py",
   "mimetype": "text/x-python",
   "name": "python",
   "nbconvert_exporter": "python",
   "pygments_lexer": "ipython3",
   "version": "3.9.0"
  }
 },
 "nbformat": 4,
 "nbformat_minor": 5
}
